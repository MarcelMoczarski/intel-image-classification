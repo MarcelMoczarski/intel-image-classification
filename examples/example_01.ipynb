{
 "cells": [
  {
   "cell_type": "code",
   "execution_count": 1,
   "metadata": {},
   "outputs": [
    {
     "name": "stderr",
     "output_type": "stream",
     "text": [
      "/usr/local/lib/python3.7/site-packages/tqdm/auto.py:22: TqdmWarning: IProgress not found. Please update jupyter and ipywidgets. See https://ipywidgets.readthedocs.io/en/stable/user_install.html\n",
      "  from .autonotebook import tqdm as notebook_tqdm\n"
     ]
    }
   ],
   "source": [
    "import torch\n",
    "from torch import nn\n",
    "from tqdm import tqdm\n",
    "import toml\n",
    "os.chdir(\"..\")"
   ]
  },
  {
   "cell_type": "code",
   "execution_count": 5,
   "metadata": {},
   "outputs": [],
   "source": [
    "from core.dl_framework.data import Dataset\n",
    "from core.dl_framework.utils import read_config\n",
    "config_file = read_config(toml.load(\"configs/default_train_config.toml\"))"
   ]
  },
  {
   "cell_type": "code",
   "execution_count": 4,
   "metadata": {},
   "outputs": [],
   "source": [
    "from core.dl_framework.data import data_pipeline\n",
    "from pathlib import Path\n",
    "import numpy as np\n",
    "from torchvision import transforms\n",
    "from sklearn.model_selection import train_test_split\n",
    "train_data_path = \"seg_train/seg_train\"\n",
    "\n",
    "# data_test = data_pipeline(train_data_path, config_file)\n"
   ]
  },
  {
   "cell_type": "code",
   "execution_count": 16,
   "metadata": {},
   "outputs": [
    {
     "name": "stderr",
     "output_type": "stream",
     "text": [
      "  0%|          | 0/14034 [44:41<?, ?it/s]\n",
      "100%|██████████| 14034/14034 [00:45<00:00, 310.39it/s]\n"
     ]
    }
   ],
   "source": [
    "from pathlib import Path\n",
    "from torchvision import transforms\n",
    "from tqdm import tqdm\n",
    "from PIL import Image\n",
    "from time import time\n",
    "train_data_path = \"seg_train/seg_train\"\n",
    "data_path = Path(config_file[\"p_tmp_data_path\"]) / Path(train_data_path)\n",
    "transform = transforms.Resize((124, 124))\n",
    "all_imgs = ([x for x in Path(data_path).rglob(\"*.jpg\") if x.is_file()])\n",
    "# y_classes = [y.name for y in Path(data_path).glob(\"*\")]\n",
    "# classes_to_label = dict(zip(y_classes, range(len(y_classes))))\n",
    "# targets = np.array([classes_to_label[x.parent.name] for x in self.x])\n",
    "transformed_imgs = []\n",
    "pbar_imgs_list = tqdm(all_imgs, total=len(all_imgs), leave=True)\n",
    "\n",
    "for img in pbar_imgs_list:\n",
    "    transformed_imgs.append(transform(Image.open(img)))\n"
   ]
  },
  {
   "cell_type": "code",
   "execution_count": 15,
   "metadata": {},
   "outputs": [
    {
     "data": {
      "text/plain": [
       "0"
      ]
     },
     "execution_count": 15,
     "metadata": {},
     "output_type": "execute_result"
    }
   ],
   "source": [
    "len(transformed_imgs)"
   ]
  },
  {
   "cell_type": "code",
   "execution_count": null,
   "metadata": {},
   "outputs": [
    {
     "ename": "Error",
     "evalue": "Canceled future for execute_request message before replies were done",
     "output_type": "error",
     "traceback": [
      "Error: Canceled future for execute_request message before replies were done",
      "at t.KernelShellFutureHandler.dispose (/root/.vscode-server/extensions/ms-toolsai.jupyter-2022.3.1000901801/out/extension.js:2:1204175)",
      "at /root/.vscode-server/extensions/ms-toolsai.jupyter-2022.3.1000901801/out/extension.js:2:1223227",
      "at Map.forEach (<anonymous>)",
      "at v._clearKernelState (/root/.vscode-server/extensions/ms-toolsai.jupyter-2022.3.1000901801/out/extension.js:2:1223212)",
      "at v.dispose (/root/.vscode-server/extensions/ms-toolsai.jupyter-2022.3.1000901801/out/extension.js:2:1216694)",
      "at /root/.vscode-server/extensions/ms-toolsai.jupyter-2022.3.1000901801/out/extension.js:2:533674",
      "at t.swallowExceptions (/root/.vscode-server/extensions/ms-toolsai.jupyter-2022.3.1000901801/out/extension.js:2:913059)",
      "at dispose (/root/.vscode-server/extensions/ms-toolsai.jupyter-2022.3.1000901801/out/extension.js:2:533652)",
      "at t.RawSession.dispose (/root/.vscode-server/extensions/ms-toolsai.jupyter-2022.3.1000901801/out/extension.js:2:537330)",
      "at runMicrotasks (<anonymous>)",
      "at processTicksAndRejections (node:internal/process/task_queues:96:5)"
     ]
    }
   ],
   "source": [
    "numpy_arr = []\n",
    "for i in data_test.train_dl.dataset.transformed_imgs:\n",
    "    numpy_arr.append(i.numpy())\n",
    "arr = np.array(numpy_arr).tostring()\n",
    "arr.shape"
   ]
  },
  {
   "cell_type": "code",
   "execution_count": 26,
   "metadata": {},
   "outputs": [
    {
     "data": {
      "text/plain": [
       "array([[[[6.09281733e-01, 8.67261529e-02, 8.23441940e-01],\n",
       "         [6.50368446e-01, 6.63703251e-01, 8.54646399e-01],\n",
       "         [9.04373246e-01, 7.52373653e-01, 2.21874170e-01],\n",
       "         ...,\n",
       "         [3.64829690e-01, 8.27097412e-01, 1.78575179e-02],\n",
       "         [1.46930947e-01, 5.46118164e-04, 1.35271738e-01],\n",
       "         [1.18343418e-02, 7.85461294e-01, 7.93192912e-01]],\n",
       "\n",
       "        [[1.50174141e-02, 7.74307362e-01, 8.79308939e-01],\n",
       "         [7.75734640e-02, 6.92055829e-02, 6.28276684e-02],\n",
       "         [1.35585554e-01, 8.48816417e-01, 2.72112826e-02],\n",
       "         ...,\n",
       "         [5.02124050e-01, 5.69973902e-01, 6.41463957e-02],\n",
       "         [9.19624116e-01, 9.84867401e-01, 8.17286059e-01],\n",
       "         [9.79036117e-01, 6.43557499e-01, 5.26044621e-01]],\n",
       "\n",
       "        [[9.10670630e-01, 3.14050172e-01, 7.11580567e-02],\n",
       "         [1.93926102e-01, 1.90415417e-01, 3.23074313e-01],\n",
       "         [4.52433025e-01, 3.21603407e-01, 4.21031264e-01],\n",
       "         ...,\n",
       "         [9.88259139e-01, 2.72729691e-01, 4.58689183e-01],\n",
       "         [9.24553444e-01, 8.64088731e-01, 4.83685354e-01],\n",
       "         [4.94270323e-01, 2.06133964e-01, 8.12276774e-01]],\n",
       "\n",
       "        ...,\n",
       "\n",
       "        [[1.88163046e-01, 5.73168054e-01, 5.67335712e-02],\n",
       "         [2.25113296e-01, 7.02768033e-01, 8.65677944e-01],\n",
       "         [5.79294412e-01, 8.15669588e-01, 9.85975894e-01],\n",
       "         ...,\n",
       "         [5.13805798e-01, 5.99864771e-01, 6.11255955e-01],\n",
       "         [3.03151129e-01, 6.53041087e-01, 6.97473208e-01],\n",
       "         [5.47239127e-01, 7.32438386e-01, 1.80413142e-01]],\n",
       "\n",
       "        [[5.55634300e-01, 2.31043662e-01, 3.89204169e-02],\n",
       "         [5.65099725e-01, 4.44909482e-01, 9.34740691e-01],\n",
       "         [7.85189715e-01, 8.51938980e-01, 1.79078800e-01],\n",
       "         ...,\n",
       "         [3.57722342e-01, 2.68855500e-02, 2.55636134e-01],\n",
       "         [4.38838314e-02, 7.70792911e-01, 1.28258583e-01],\n",
       "         [4.88993658e-01, 9.74479638e-01, 7.85635732e-01]],\n",
       "\n",
       "        [[1.03257691e-01, 3.72407387e-01, 6.32244604e-01],\n",
       "         [3.60759640e-01, 4.66598339e-01, 5.63390222e-01],\n",
       "         [6.17606486e-01, 9.16753718e-01, 4.09719023e-01],\n",
       "         ...,\n",
       "         [3.07320787e-01, 1.83583674e-01, 5.46970690e-01],\n",
       "         [2.17449194e-01, 7.31874881e-01, 1.90344465e-01],\n",
       "         [7.78574004e-01, 7.87330366e-02, 4.73582841e-01]]],\n",
       "\n",
       "\n",
       "       [[[9.05636351e-01, 7.21455149e-01, 8.63703203e-01],\n",
       "         [4.00981542e-02, 6.18207633e-01, 8.74227661e-01],\n",
       "         [7.68156071e-01, 8.55392308e-01, 4.54529870e-01],\n",
       "         ...,\n",
       "         [9.31219167e-01, 4.38297428e-01, 9.19337894e-01],\n",
       "         [6.82965466e-01, 5.61073281e-01, 8.82616509e-01],\n",
       "         [4.34382929e-01, 7.48935399e-01, 8.74112483e-01]],\n",
       "\n",
       "        [[5.99330367e-01, 7.41082603e-01, 3.16555793e-01],\n",
       "         [2.76904064e-01, 7.29829678e-01, 5.03096885e-01],\n",
       "         [2.72597522e-01, 2.72831436e-01, 4.53445541e-02],\n",
       "         ...,\n",
       "         [9.14723196e-01, 4.22273864e-01, 6.31981776e-03],\n",
       "         [6.16456816e-01, 6.65850460e-02, 2.63674990e-01],\n",
       "         [2.43430612e-01, 3.78285774e-01, 6.10218768e-01]],\n",
       "\n",
       "        [[8.77542343e-01, 3.73976679e-01, 6.57399404e-01],\n",
       "         [7.35014631e-01, 1.88368511e-01, 8.41561072e-01],\n",
       "         [7.26387001e-01, 4.11158881e-02, 8.19479571e-01],\n",
       "         ...,\n",
       "         [3.86555235e-01, 2.21291841e-01, 3.92303977e-01],\n",
       "         [9.59797078e-01, 3.04620996e-01, 7.25621312e-01],\n",
       "         [1.90455262e-01, 9.59361379e-01, 3.56852054e-01]],\n",
       "\n",
       "        ...,\n",
       "\n",
       "        [[4.70138016e-01, 5.85314013e-01, 6.47057435e-01],\n",
       "         [8.55881792e-03, 6.45739276e-01, 9.55941921e-01],\n",
       "         [8.79663226e-01, 5.33416302e-01, 4.28007543e-01],\n",
       "         ...,\n",
       "         [9.10003442e-01, 4.05351778e-02, 4.53031450e-02],\n",
       "         [6.21880063e-01, 1.71506482e-01, 6.55036939e-01],\n",
       "         [2.17488694e-01, 5.90896490e-01, 4.49320469e-01]],\n",
       "\n",
       "        [[3.39449840e-01, 1.72012264e-02, 2.98544819e-01],\n",
       "         [9.65896588e-01, 9.77548382e-01, 9.24867814e-01],\n",
       "         [3.91706761e-02, 9.50132413e-01, 2.29112947e-01],\n",
       "         ...,\n",
       "         [4.25037285e-01, 8.15369810e-01, 7.81725058e-01],\n",
       "         [5.20793083e-01, 7.67384671e-01, 1.05649107e-01],\n",
       "         [3.79135439e-01, 9.37744957e-01, 6.92059882e-01]],\n",
       "\n",
       "        [[6.72705151e-01, 4.08228524e-01, 5.81388298e-01],\n",
       "         [5.83982855e-01, 3.63833258e-01, 8.83087482e-01],\n",
       "         [7.11303713e-01, 9.68395555e-01, 3.17084103e-01],\n",
       "         ...,\n",
       "         [4.65999841e-01, 9.93416152e-02, 2.20989600e-01],\n",
       "         [2.65228409e-01, 2.02475978e-01, 1.68612837e-01],\n",
       "         [4.14106971e-01, 9.86577498e-01, 2.52928664e-01]]],\n",
       "\n",
       "\n",
       "       [[[9.18930460e-01, 5.86504776e-01, 9.29263505e-01],\n",
       "         [5.75620036e-01, 7.68196332e-01, 7.77624750e-01],\n",
       "         [6.52440130e-01, 3.23484044e-01, 3.00050820e-01],\n",
       "         ...,\n",
       "         [6.76712920e-01, 9.69616504e-01, 8.45260074e-02],\n",
       "         [8.62447778e-01, 4.15549079e-02, 2.34084028e-01],\n",
       "         [3.74760024e-01, 8.05208332e-01, 9.37146536e-01]],\n",
       "\n",
       "        [[7.72771335e-01, 8.27597142e-01, 1.27872464e-03],\n",
       "         [1.14481241e-01, 4.74884170e-01, 9.18027287e-01],\n",
       "         [9.26915147e-01, 1.37918930e-01, 5.99302399e-01],\n",
       "         ...,\n",
       "         [6.95058523e-01, 1.90969506e-01, 9.24994171e-01],\n",
       "         [5.64439893e-02, 3.66894005e-01, 8.93039601e-01],\n",
       "         [1.62156398e-01, 1.90138783e-01, 7.35281178e-01]],\n",
       "\n",
       "        [[7.57036469e-01, 5.41687004e-01, 1.03000308e-02],\n",
       "         [6.39314915e-01, 6.49307091e-01, 9.62726677e-01],\n",
       "         [4.19960425e-01, 4.79327361e-01, 6.61206806e-01],\n",
       "         ...,\n",
       "         [8.09704063e-01, 7.29062957e-01, 4.77379863e-01],\n",
       "         [8.13337223e-01, 6.27416321e-01, 4.47555191e-01],\n",
       "         [4.23749910e-01, 6.04284957e-01, 1.90633989e-01]],\n",
       "\n",
       "        ...,\n",
       "\n",
       "        [[2.86065639e-01, 8.90008547e-01, 2.61594660e-01],\n",
       "         [3.48824722e-01, 3.56165345e-01, 8.45275878e-01],\n",
       "         [5.94952616e-02, 8.15030380e-01, 8.43995419e-01],\n",
       "         ...,\n",
       "         [2.89676664e-02, 4.99074941e-01, 5.96531410e-01],\n",
       "         [9.63062475e-01, 5.98239170e-01, 2.58520304e-01],\n",
       "         [9.04539726e-02, 3.95039162e-01, 5.73426832e-01]],\n",
       "\n",
       "        [[4.90293125e-01, 2.48278324e-01, 6.22988932e-01],\n",
       "         [3.94550064e-02, 6.85239053e-01, 3.03486083e-01],\n",
       "         [6.00895811e-01, 2.29211967e-01, 7.49040938e-01],\n",
       "         ...,\n",
       "         [4.89146227e-01, 6.02004161e-01, 7.73436405e-01],\n",
       "         [6.54253643e-01, 9.10622302e-01, 4.84342776e-01],\n",
       "         [6.58430291e-01, 6.69767035e-01, 5.96189135e-02]],\n",
       "\n",
       "        [[7.98679984e-01, 5.64396295e-01, 4.62922019e-01],\n",
       "         [6.06957558e-01, 6.76653268e-01, 4.75086918e-01],\n",
       "         [4.75561888e-01, 5.81986542e-02, 8.68196453e-02],\n",
       "         ...,\n",
       "         [3.54108662e-01, 2.72466623e-02, 4.28749203e-01],\n",
       "         [6.14357367e-01, 9.78896230e-01, 5.38594860e-01],\n",
       "         [1.74562745e-01, 8.55488328e-01, 7.94949868e-01]]],\n",
       "\n",
       "\n",
       "       ...,\n",
       "\n",
       "\n",
       "       [[[2.62305765e-01, 9.15400397e-02, 3.63666929e-01],\n",
       "         [4.89588574e-02, 7.96030113e-01, 2.48233906e-01],\n",
       "         [9.95022084e-01, 4.32667982e-01, 6.99639675e-02],\n",
       "         ...,\n",
       "         [6.32175079e-01, 2.01725905e-01, 7.58950954e-01],\n",
       "         [4.95114167e-01, 6.05225474e-01, 1.04840850e-01],\n",
       "         [9.37848146e-01, 1.09169341e-01, 9.06665889e-01]],\n",
       "\n",
       "        [[3.98073884e-01, 6.02090108e-01, 8.57418507e-01],\n",
       "         [7.91549240e-01, 9.58868381e-01, 8.54227101e-01],\n",
       "         [2.45529561e-01, 3.90274376e-01, 8.92593241e-01],\n",
       "         ...,\n",
       "         [4.57367302e-01, 1.27396693e-01, 1.21631912e-01],\n",
       "         [8.12943157e-01, 7.79822999e-01, 7.47196743e-01],\n",
       "         [6.02565587e-02, 4.65433242e-01, 8.80199395e-01]],\n",
       "\n",
       "        [[1.50776284e-01, 2.63506977e-01, 2.18682301e-01],\n",
       "         [5.81111861e-01, 6.90281980e-01, 4.72541992e-01],\n",
       "         [3.92803722e-01, 3.37115472e-01, 7.32901006e-01],\n",
       "         ...,\n",
       "         [4.20582021e-02, 2.76990297e-01, 4.94088654e-01],\n",
       "         [1.63137801e-01, 1.65105390e-01, 2.78448128e-01],\n",
       "         [5.70783585e-01, 4.36537760e-01, 5.39781977e-01]],\n",
       "\n",
       "        ...,\n",
       "\n",
       "        [[5.33582335e-01, 4.29911735e-01, 9.00648224e-01],\n",
       "         [2.86061092e-01, 1.84910956e-01, 3.04761942e-01],\n",
       "         [3.12958343e-01, 2.59858960e-01, 7.76275324e-01],\n",
       "         ...,\n",
       "         [9.28751714e-02, 5.97070700e-01, 6.18214102e-01],\n",
       "         [2.28416569e-01, 9.34257776e-01, 2.69369690e-01],\n",
       "         [6.04505939e-01, 2.27787155e-01, 3.46471173e-01]],\n",
       "\n",
       "        [[4.99904541e-01, 3.62300153e-02, 2.57929052e-01],\n",
       "         [7.08354622e-01, 8.13459913e-01, 6.18163574e-01],\n",
       "         [9.91236756e-01, 2.32617279e-01, 4.97934836e-01],\n",
       "         ...,\n",
       "         [7.39837716e-01, 6.69756150e-01, 6.78660321e-01],\n",
       "         [1.49554677e-01, 4.15196612e-01, 1.21558588e-01],\n",
       "         [1.68475359e-01, 8.58447851e-01, 1.14366255e-01]],\n",
       "\n",
       "        [[4.52497800e-01, 6.24760276e-02, 3.96197007e-01],\n",
       "         [3.77189477e-01, 8.99171849e-01, 6.25166333e-01],\n",
       "         [6.47110284e-01, 7.08570664e-03, 4.73117177e-01],\n",
       "         ...,\n",
       "         [5.35781292e-01, 4.82435434e-01, 5.60023069e-01],\n",
       "         [6.04131011e-01, 3.19395649e-02, 5.69664061e-01],\n",
       "         [5.32691580e-01, 7.90152644e-01, 5.33264982e-01]]],\n",
       "\n",
       "\n",
       "       [[[2.55496555e-01, 5.89296931e-01, 9.14874330e-01],\n",
       "         [2.56627071e-01, 8.73666369e-01, 5.99950892e-01],\n",
       "         [5.07339273e-01, 7.47179722e-01, 1.95243829e-01],\n",
       "         ...,\n",
       "         [2.13847104e-01, 5.01710317e-01, 2.46015638e-01],\n",
       "         [2.98891890e-01, 8.55605936e-01, 5.19099157e-01],\n",
       "         [7.36057233e-01, 3.25870394e-01, 4.74981275e-01]],\n",
       "\n",
       "        [[3.12679849e-01, 7.72214836e-01, 4.45794299e-01],\n",
       "         [5.49438220e-01, 5.45797503e-01, 5.16066315e-01],\n",
       "         [9.93858995e-01, 3.74208717e-01, 7.30752332e-01],\n",
       "         ...,\n",
       "         [1.38916100e-01, 6.07152874e-01, 6.65639207e-01],\n",
       "         [7.36614082e-01, 5.44751175e-03, 6.49102622e-01],\n",
       "         [8.93192804e-01, 8.61333425e-01, 8.17698655e-01]],\n",
       "\n",
       "        [[6.48381524e-01, 4.20893324e-01, 2.11877334e-01],\n",
       "         [6.01223921e-01, 2.44657229e-01, 9.31877108e-02],\n",
       "         [7.39285537e-01, 3.53536051e-01, 8.85985639e-02],\n",
       "         ...,\n",
       "         [7.15015440e-01, 8.00078841e-01, 8.99888066e-01],\n",
       "         [5.35774589e-01, 8.71683035e-01, 1.51196951e-01],\n",
       "         [9.26622660e-01, 4.18256362e-01, 5.00916398e-01]],\n",
       "\n",
       "        ...,\n",
       "\n",
       "        [[7.74714588e-01, 4.59351455e-01, 2.72784680e-01],\n",
       "         [8.59074015e-01, 1.17069551e-01, 1.56774322e-01],\n",
       "         [9.06798782e-02, 8.99165236e-01, 2.56872489e-02],\n",
       "         ...,\n",
       "         [2.65289336e-01, 2.32227038e-01, 5.19235081e-01],\n",
       "         [7.92281414e-01, 1.91789007e-01, 4.92408742e-01],\n",
       "         [3.37728802e-01, 2.60640688e-01, 3.02898037e-01]],\n",
       "\n",
       "        [[6.18188568e-02, 6.21849139e-03, 7.93670270e-01],\n",
       "         [4.36808086e-01, 6.31311279e-01, 6.37169774e-02],\n",
       "         [8.32165578e-01, 8.68700127e-01, 8.42287824e-01],\n",
       "         ...,\n",
       "         [6.36056961e-01, 5.39997224e-02, 4.82387664e-01],\n",
       "         [1.75836947e-01, 3.80066120e-01, 1.43408432e-01],\n",
       "         [9.76786066e-01, 4.73002369e-01, 3.27548091e-01]],\n",
       "\n",
       "        [[5.68639053e-01, 3.26786677e-01, 2.67832827e-01],\n",
       "         [3.54074100e-01, 1.22568617e-02, 4.62488728e-01],\n",
       "         [2.44571254e-01, 9.63343973e-01, 8.04503709e-02],\n",
       "         ...,\n",
       "         [4.30122012e-01, 4.78903469e-01, 7.44805667e-01],\n",
       "         [6.74348836e-01, 8.62631910e-01, 7.28383416e-01],\n",
       "         [7.27813646e-01, 4.32286374e-01, 2.71627935e-01]]],\n",
       "\n",
       "\n",
       "       [[[8.46408849e-01, 9.67094778e-01, 5.98781989e-01],\n",
       "         [9.86272938e-01, 5.84070090e-01, 4.25954993e-01],\n",
       "         [6.08683388e-02, 8.78325029e-01, 6.03019200e-01],\n",
       "         ...,\n",
       "         [6.68606356e-01, 4.80299758e-01, 6.42518689e-01],\n",
       "         [4.79669117e-02, 3.15445835e-01, 5.62902158e-01],\n",
       "         [2.86156018e-01, 3.49788895e-01, 1.13949214e-03]],\n",
       "\n",
       "        [[1.89458549e-01, 1.38490462e-01, 9.09364786e-01],\n",
       "         [9.61023981e-01, 3.43676203e-01, 2.60770607e-01],\n",
       "         [6.82380764e-01, 5.24154208e-01, 2.74123976e-01],\n",
       "         ...,\n",
       "         [2.90362785e-01, 5.82797048e-01, 2.37253555e-01],\n",
       "         [7.32605326e-01, 5.34273001e-01, 8.31688964e-01],\n",
       "         [3.77903612e-01, 2.94829742e-01, 8.96009402e-01]],\n",
       "\n",
       "        [[1.73798931e-01, 8.02578130e-01, 8.55604511e-01],\n",
       "         [8.47191198e-01, 6.23771399e-01, 1.11170104e-01],\n",
       "         [5.97987491e-01, 2.64018362e-02, 4.76555018e-01],\n",
       "         ...,\n",
       "         [8.87971909e-01, 3.60888093e-02, 3.19136361e-01],\n",
       "         [4.94862126e-01, 1.33778178e-01, 3.47678581e-01],\n",
       "         [4.02080142e-01, 2.41859711e-01, 5.85214577e-01]],\n",
       "\n",
       "        ...,\n",
       "\n",
       "        [[4.70954969e-01, 6.96793795e-01, 6.78207501e-01],\n",
       "         [2.00463298e-01, 5.30260304e-01, 9.47086431e-01],\n",
       "         [3.50288496e-02, 2.25978039e-01, 9.60084436e-01],\n",
       "         ...,\n",
       "         [8.59982692e-01, 1.82977401e-01, 1.60306252e-01],\n",
       "         [4.88903551e-01, 8.78538271e-01, 2.82743383e-01],\n",
       "         [6.97240032e-02, 5.36671608e-01, 5.10022437e-01]],\n",
       "\n",
       "        [[2.86444564e-01, 5.43308862e-01, 5.72936241e-01],\n",
       "         [5.72944208e-01, 1.06732065e-01, 1.05280788e-01],\n",
       "         [4.99421997e-01, 6.96258428e-01, 7.06199725e-01],\n",
       "         ...,\n",
       "         [4.21043799e-01, 1.10653599e-02, 2.70389725e-01],\n",
       "         [4.12780295e-01, 4.99397199e-02, 3.85799048e-01],\n",
       "         [3.92034830e-01, 4.59869535e-01, 6.04179341e-01]],\n",
       "\n",
       "        [[3.33609820e-01, 9.71442686e-01, 8.80536875e-01],\n",
       "         [6.56407653e-01, 1.37694777e-01, 8.74774975e-01],\n",
       "         [7.51348292e-01, 7.65329630e-01, 3.83373109e-01],\n",
       "         ...,\n",
       "         [1.86712958e-01, 5.19900680e-01, 5.74959586e-01],\n",
       "         [6.83625957e-02, 6.89515381e-01, 6.40218812e-01],\n",
       "         [7.62642310e-01, 8.12454468e-01, 2.47615016e-01]]]])"
      ]
     },
     "execution_count": 26,
     "metadata": {},
     "output_type": "execute_result"
    }
   ],
   "source": [
    "np.load(\"/\")"
   ]
  },
  {
   "cell_type": "code",
   "execution_count": 22,
   "metadata": {},
   "outputs": [
    {
     "ename": "Error",
     "evalue": "Canceled future for execute_request message before replies were done",
     "output_type": "error",
     "traceback": [
      "Error: Canceled future for execute_request message before replies were done",
      "at t.KernelShellFutureHandler.dispose (/root/.vscode-server/extensions/ms-toolsai.jupyter-2022.3.1000901801/out/extension.js:2:1204175)",
      "at /root/.vscode-server/extensions/ms-toolsai.jupyter-2022.3.1000901801/out/extension.js:2:1223227",
      "at Map.forEach (<anonymous>)",
      "at v._clearKernelState (/root/.vscode-server/extensions/ms-toolsai.jupyter-2022.3.1000901801/out/extension.js:2:1223212)",
      "at v.dispose (/root/.vscode-server/extensions/ms-toolsai.jupyter-2022.3.1000901801/out/extension.js:2:1216694)",
      "at /root/.vscode-server/extensions/ms-toolsai.jupyter-2022.3.1000901801/out/extension.js:2:533674",
      "at t.swallowExceptions (/root/.vscode-server/extensions/ms-toolsai.jupyter-2022.3.1000901801/out/extension.js:2:913059)",
      "at dispose (/root/.vscode-server/extensions/ms-toolsai.jupyter-2022.3.1000901801/out/extension.js:2:533652)",
      "at t.RawSession.dispose (/root/.vscode-server/extensions/ms-toolsai.jupyter-2022.3.1000901801/out/extension.js:2:537330)",
      "at processTicksAndRejections (node:internal/process/task_queues:96:5)"
     ]
    }
   ],
   "source": [
    "bytes_arr = arr.tostring()"
   ]
  },
  {
   "cell_type": "code",
   "execution_count": null,
   "metadata": {},
   "outputs": [],
   "source": [
    "pbar = tqdm(data_test.train_dl, total=len(data_test.train_dl))\n",
    "for i, data_batch in enumerate(pbar):\n",
    "    i"
   ]
  },
  {
   "cell_type": "code",
   "execution_count": 8,
   "metadata": {},
   "outputs": [
    {
     "name": "stderr",
     "output_type": "stream",
     "text": [
      "  0%|          | 39/14034 [01:58<11:49:38,  3.04s/it]\n"
     ]
    },
    {
     "ename": "KeyboardInterrupt",
     "evalue": "",
     "output_type": "error",
     "traceback": [
      "\u001b[0;31m---------------------------------------------------------------------------\u001b[0m",
      "\u001b[0;31mKeyboardInterrupt\u001b[0m                         Traceback (most recent call last)",
      "\u001b[0;32m/tmp/ipykernel_8632/3201746975.py\u001b[0m in \u001b[0;36m<module>\u001b[0;34m\u001b[0m\n\u001b[1;32m     12\u001b[0m     \u001b[0;32mfor\u001b[0m \u001b[0midx\u001b[0m\u001b[0;34m,\u001b[0m \u001b[0mimg\u001b[0m \u001b[0;32min\u001b[0m \u001b[0menumerate\u001b[0m\u001b[0;34m(\u001b[0m\u001b[0mpbar_imgs\u001b[0m\u001b[0;34m)\u001b[0m\u001b[0;34m:\u001b[0m\u001b[0;34m\u001b[0m\u001b[0m\n\u001b[1;32m     13\u001b[0m         \u001b[0mresized_img\u001b[0m \u001b[0;34m=\u001b[0m \u001b[0mtransforms\u001b[0m\u001b[0;34m.\u001b[0m\u001b[0mResize\u001b[0m\u001b[0;34m(\u001b[0m\u001b[0;34m(\u001b[0m\u001b[0;36m124\u001b[0m\u001b[0;34m,\u001b[0m \u001b[0;36m124\u001b[0m\u001b[0;34m)\u001b[0m\u001b[0;34m)\u001b[0m\u001b[0;34m(\u001b[0m\u001b[0mImage\u001b[0m\u001b[0;34m.\u001b[0m\u001b[0mopen\u001b[0m\u001b[0;34m(\u001b[0m\u001b[0mimg\u001b[0m\u001b[0;34m)\u001b[0m\u001b[0;34m)\u001b[0m\u001b[0;34m\u001b[0m\u001b[0m\n\u001b[0;32m---> 14\u001b[0;31m         \u001b[0mdset\u001b[0m\u001b[0;34m[\u001b[0m\u001b[0midx\u001b[0m\u001b[0;34m]\u001b[0m \u001b[0;34m=\u001b[0m \u001b[0mresized_img\u001b[0m\u001b[0;34m\u001b[0m\u001b[0m\n\u001b[0m\u001b[1;32m     15\u001b[0m \u001b[0;34m\u001b[0m\u001b[0m\n",
      "\u001b[0;32mh5py/_objects.pyx\u001b[0m in \u001b[0;36mh5py._objects.with_phil.wrapper\u001b[0;34m()\u001b[0m\n",
      "\u001b[0;32mh5py/_objects.pyx\u001b[0m in \u001b[0;36mh5py._objects.with_phil.wrapper\u001b[0;34m()\u001b[0m\n",
      "\u001b[0;32m/usr/local/lib/python3.7/site-packages/h5py/_hl/dataset.py\u001b[0m in \u001b[0;36m__setitem__\u001b[0;34m(self, args, val)\u001b[0m\n\u001b[1;32m    949\u001b[0m         \u001b[0mmspace\u001b[0m \u001b[0;34m=\u001b[0m \u001b[0mh5s\u001b[0m\u001b[0;34m.\u001b[0m\u001b[0mcreate_simple\u001b[0m\u001b[0;34m(\u001b[0m\u001b[0mselection\u001b[0m\u001b[0;34m.\u001b[0m\u001b[0mexpand_shape\u001b[0m\u001b[0;34m(\u001b[0m\u001b[0mmshape\u001b[0m\u001b[0;34m)\u001b[0m\u001b[0;34m)\u001b[0m\u001b[0;34m\u001b[0m\u001b[0m\n\u001b[1;32m    950\u001b[0m         \u001b[0;32mfor\u001b[0m \u001b[0mfspace\u001b[0m \u001b[0;32min\u001b[0m \u001b[0mselection\u001b[0m\u001b[0;34m.\u001b[0m\u001b[0mbroadcast\u001b[0m\u001b[0;34m(\u001b[0m\u001b[0mmshape\u001b[0m\u001b[0;34m)\u001b[0m\u001b[0;34m:\u001b[0m\u001b[0;34m\u001b[0m\u001b[0m\n\u001b[0;32m--> 951\u001b[0;31m             \u001b[0mself\u001b[0m\u001b[0;34m.\u001b[0m\u001b[0mid\u001b[0m\u001b[0;34m.\u001b[0m\u001b[0mwrite\u001b[0m\u001b[0;34m(\u001b[0m\u001b[0mmspace\u001b[0m\u001b[0;34m,\u001b[0m \u001b[0mfspace\u001b[0m\u001b[0;34m,\u001b[0m \u001b[0mval\u001b[0m\u001b[0;34m,\u001b[0m \u001b[0mmtype\u001b[0m\u001b[0;34m,\u001b[0m \u001b[0mdxpl\u001b[0m\u001b[0;34m=\u001b[0m\u001b[0mself\u001b[0m\u001b[0;34m.\u001b[0m\u001b[0m_dxpl\u001b[0m\u001b[0;34m)\u001b[0m\u001b[0;34m\u001b[0m\u001b[0m\n\u001b[0m\u001b[1;32m    952\u001b[0m \u001b[0;34m\u001b[0m\u001b[0m\n\u001b[1;32m    953\u001b[0m     \u001b[0;32mdef\u001b[0m \u001b[0mread_direct\u001b[0m\u001b[0;34m(\u001b[0m\u001b[0mself\u001b[0m\u001b[0;34m,\u001b[0m \u001b[0mdest\u001b[0m\u001b[0;34m,\u001b[0m \u001b[0msource_sel\u001b[0m\u001b[0;34m=\u001b[0m\u001b[0;32mNone\u001b[0m\u001b[0;34m,\u001b[0m \u001b[0mdest_sel\u001b[0m\u001b[0;34m=\u001b[0m\u001b[0;32mNone\u001b[0m\u001b[0;34m)\u001b[0m\u001b[0;34m:\u001b[0m\u001b[0;34m\u001b[0m\u001b[0m\n",
      "\u001b[0;31mKeyboardInterrupt\u001b[0m: "
     ]
    }
   ],
   "source": [
    "import h5py\n",
    "from PIL import Image\n",
    "save_path = \"./tmp_files/train_imgs.hdf5\"\n",
    "data_path = Path(config_file[\"p_tmp_data_path\"]) / Path(train_data_path)\n",
    "imgs_file = [x for x in Path(data_path).rglob(\"*.jpg\") if x.is_file()]\n",
    "file_length = len([x for x in Path(data_path).rglob(\"*.jpg\") if x.is_file()])\n",
    "with h5py.File(save_path, \"w\", libver=\"latest\") as f:\n",
    "    dset = f.create_dataset(\"train_imgs\", shape=(file_length, 124, 124, 3), \n",
    "                            dtype=np.float32, fillvalue=0, chunks=True, \n",
    "                            compression='gzip', compression_opts=9)\n",
    "    pbar_imgs = tqdm(imgs_file, total=len(imgs_file))\n",
    "    for idx, img in enumerate(pbar_imgs):\n",
    "        resized_img = transforms.Resize((124, 124))(Image.open(img))\n",
    "        dset[idx] = resized_img\n",
    "    "
   ]
  },
  {
   "cell_type": "code",
   "execution_count": 102,
   "metadata": {},
   "outputs": [],
   "source": [
    "for img in imgs_file:\n",
    "    resized_img = transforms.Resize(124)(Image.open(img))\n",
    "    # test = Image.open(img)\n",
    "    break"
   ]
  },
  {
   "cell_type": "code",
   "execution_count": 112,
   "metadata": {},
   "outputs": [
    {
     "data": {
      "text/plain": [
       "<matplotlib.image.AxesImage at 0x7ff88891e400>"
      ]
     },
     "execution_count": 112,
     "metadata": {},
     "output_type": "execute_result"
    },
    {
     "data": {
      "image/png": "[encoded data removed]",
      "text/plain": [
       "<Figure size 432x288 with 1 Axes>"
      ]
     },
     "metadata": {
      "needs_background": "light"
     },
     "output_type": "display_data"
    }
   ],
   "source": [
    "import matplotlib.pyplot as plt\n",
    "np_img = np.array(resized_img)\n",
    "# # np_img = np_img.reshape((3, 124, 124))\n",
    "np_img = transforms.ToTensor()(np_img)\n",
    "# np_img = np_img.numpy().reshape(124, 124, 3)*255\n",
    "# Image.fromarray(np_img.astype(np.uint8))\n",
    "# np_img.shape\n",
    "# np_img\n",
    "plt.imshow(np_img.permute(1, 2, 0))\n",
    "# np_img.permute(2, 1, 0).shape"
   ]
  },
  {
   "cell_type": "code",
   "execution_count": 27,
   "metadata": {},
   "outputs": [
    {
     "name": "stderr",
     "output_type": "stream",
     "text": [
      "100%|██████████| 14034/14034 [00:34<00:00, 404.41it/s]\n"
     ]
    }
   ],
   "source": [
    "from PIL import Image\n",
    "transform = [transforms.Resize(124), transforms.ToTensor()]\n",
    "transformed_imgs = []\n",
    "pbar_imgs_list = tqdm(imgs_list, total=len(imgs_list), leave=True)\n",
    "for img in pbar_imgs_list:\n",
    "    transformed_imgs.append(transforms.Compose(transform)(Image.open(img)))\n",
    "\n"
   ]
  },
  {
   "cell_type": "code",
   "execution_count": 36,
   "metadata": {},
   "outputs": [],
   "source": [
    "import typing\n",
    "class CustomDataset(Dataset):\n",
    "    def __init__(self, data_path: typing.Union[str, Path], transform: list = None) -> None:\n",
    "        self.data_path = data_path\n",
    "        self.transform = transform\n",
    "        self.x = sorted([x for x in Path(data_path).rglob(\"*.jpg\") if x.is_file()])\n",
    "        y_classes = [y.name for y in Path(data_path).glob(\"*\")]\n",
    "        self.classes_to_label = dict(zip(y_classes, range(len(y_classes))))\n",
    "        self.targets = np.array([self.classes_to_label[x.parent.name] for x in self.x])\n",
    "        self.file = h5py.File(\"./train_imgs.hdf5\", \"r\")\n",
    "        \n",
    "    def __len__(self) -> int:\n",
    "        return len(self.x)\n",
    "\n",
    "    def __getitem__(self, idx: int) -> tuple:\n",
    "        xs = self.file[\"train_imgs.hdf5\"][idx]\n",
    "        if self.transform:\n",
    "            xs = transforms.Compose(self.transform)(xs)\n",
    "        return x, self.targets[idx]"
   ]
  },
  {
   "cell_type": "code",
   "execution_count": 120,
   "metadata": {},
   "outputs": [
    {
     "data": {
      "text/plain": [
       "array([[[ 61., 103., 161.],\n",
       "        [ 61., 103., 161.],\n",
       "        [ 59., 101., 159.],\n",
       "        ...,\n",
       "        [ 64.,  97., 151.],\n",
       "        [ 65.,  98., 152.],\n",
       "        [ 65.,  98., 152.]],\n",
       "\n",
       "       [[ 63., 104., 162.],\n",
       "        [ 63., 104., 162.],\n",
       "        [ 62., 103., 161.],\n",
       "        ...,\n",
       "        [ 65.,  98., 152.],\n",
       "        [ 66.,  99., 153.],\n",
       "        [ 66.,  99., 153.]],\n",
       "\n",
       "       [[ 64., 104., 163.],\n",
       "        [ 64., 104., 163.],\n",
       "        [ 64., 104., 163.],\n",
       "        ...,\n",
       "        [ 67., 100., 154.],\n",
       "        [ 67., 100., 154.],\n",
       "        [ 67., 100., 154.]],\n",
       "\n",
       "       ...,\n",
       "\n",
       "       [[ 74.,  83.,  98.],\n",
       "        [ 76.,  85., 100.],\n",
       "        [ 81.,  90., 105.],\n",
       "        ...,\n",
       "        [ 65.,  71.,  83.],\n",
       "        [ 71.,  77.,  89.],\n",
       "        [ 73.,  79.,  91.]],\n",
       "\n",
       "       [[ 68.,  77.,  92.],\n",
       "        [ 70.,  79.,  94.],\n",
       "        [ 70.,  79.,  94.],\n",
       "        ...,\n",
       "        [ 53.,  59.,  71.],\n",
       "        [ 55.,  61.,  73.],\n",
       "        [ 54.,  60.,  72.]],\n",
       "\n",
       "       [[ 71.,  80.,  95.],\n",
       "        [ 61.,  70.,  85.],\n",
       "        [ 56.,  65.,  80.],\n",
       "        ...,\n",
       "        [ 62.,  68.,  80.],\n",
       "        [ 60.,  66.,  78.],\n",
       "        [ 50.,  56.,  68.]]], dtype=float32)"
      ]
     },
     "execution_count": 120,
     "metadata": {},
     "output_type": "execute_result"
    }
   ],
   "source": []
  },
  {
   "cell_type": "code",
   "execution_count": 69,
   "metadata": {},
   "outputs": [
    {
     "name": "stderr",
     "output_type": "stream",
     "text": [
      "Program before typechecking:\n",
      "from IPython import get_ipython\n",
      "import torch\n",
      "from torch import nn\n",
      "from tqdm import tqdm\n",
      "pass\n",
      "pass\n",
      "pass\n",
      "pass\n",
      "import matplotlib.pyplot as plt\n",
      "\n",
      "\n",
      "def plot_img(img):\n",
      "    pass\n",
      "def conv_output_size(w, k=3, p=2, s=1):\n",
      "    return ((w - k + 2*p) / s + 1)\n",
      "\n",
      "def conv_block(img_size, n_in, nh, kernel_size, stride, padding, max_kernel=2):\n",
      "    modules = [\n",
      "    nn.Conv2d(n_in, nh, kernel_size, stride, padding),\n",
      "    nn.BatchNorm2d(nh),\n",
      "    nn.ReLU(),\n",
      "    nn.MaxPool2d(max_kernel)\n",
      "    ]\n",
      "    output_size = conv_output_size(img_size, k=kernel_size, p=padding, s=stride)\n",
      "    output_size = conv_output_size(output_size, k=max_kernel, p=0, s=max_kernel)\n",
      "    return modules, int(output_size)\n",
      "\n",
      "class CustomModel(nn.Module):\n",
      "    def __init__(self, n_in, n_out, nh, img_size, num_blocks, kernel_size=3, stride=1, padding=1):\n",
      "        super(CustomModel, self).__init__()\n",
      "        \n",
      "        modules_list = []\n",
      "\n",
      "        for n in range(num_blocks):\n",
      "            modules, output_size = conv_block(img_size, n_in, nh, kernel_size, stride, padding)\n",
      "            modules_list.extend(modules)\n",
      "            \n",
      "            img_size = output_size\n",
      "            n_in = nh\n",
      "            nh = 2*nh\n",
      "        self.conv = nn.Sequential(*modules_list)\n",
      "        output_size = output_size**2 * n_in\n",
      "\n",
      "        self.fc = nn.Sequential(\n",
      "            nn.Flatten(),\n",
      "            nn.Linear(output_size, n_out)\n",
      "        )\n",
      "    \n",
      "    def forward(self, x):\n",
      "        x = self.conv(x)\n",
      "        out = self.fc(x)\n",
      "        return out\n",
      "    \n",
      "net = CustomModel(img.size(1), 6, 16, 124, 4)\n",
      "\n",
      "\n",
      "\n",
      "<cell>41: error: Name \"img\" is not defined\n",
      "Finished type checking\n"
     ]
    }
   ],
   "source": [
    "def conv_output_size(w, k=3, p=2, s=1):\n",
    "    return ((w - k + 2*p) / s + 1)\n",
    "\n",
    "def conv_block(img_size, n_in, nh, kernel_size, stride, padding, max_kernel=2):\n",
    "    modules = [\n",
    "    nn.Conv2d(n_in, nh, kernel_size, stride, padding),\n",
    "    nn.BatchNorm2d(nh),\n",
    "    nn.ReLU(),\n",
    "    nn.MaxPool2d(max_kernel)\n",
    "    ]\n",
    "    output_size = conv_output_size(img_size, k=kernel_size, p=padding, s=stride)\n",
    "    output_size = conv_output_size(output_size, k=max_kernel, p=0, s=max_kernel)\n",
    "    return modules, int(output_size)\n",
    "\n",
    "class CustomModel(nn.Module):\n",
    "    def __init__(self, n_in, n_out, nh, img_size, num_blocks, kernel_size=3, stride=1, padding=1):\n",
    "        super(CustomModel, self).__init__()\n",
    "        \n",
    "        modules_list = []\n",
    "\n",
    "        for n in range(num_blocks):\n",
    "            modules, output_size = conv_block(img_size, n_in, nh, kernel_size, stride, padding)\n",
    "            modules_list.extend(modules)\n",
    "            \n",
    "            img_size = output_size\n",
    "            n_in = nh\n",
    "            nh = 2*nh\n",
    "        self.conv = nn.Sequential(*modules_list)\n",
    "        output_size = output_size**2 * n_in\n",
    "\n",
    "        self.fc = nn.Sequential(\n",
    "            nn.Flatten(),\n",
    "            nn.Linear(output_size, n_out)\n",
    "        )\n",
    "    \n",
    "    def forward(self, x):\n",
    "        x = self.conv(x)\n",
    "        out = self.fc(x)\n",
    "        return out\n",
    "    \n",
    "net = CustomModel(img.size(1), 6, 16, 124, 4)\n",
    "\n"
   ]
  },
  {
   "cell_type": "code",
   "execution_count": 64,
   "metadata": {},
   "outputs": [],
   "source": [
    "import matplotlib.pyplot as plt\n",
    "def plot_img(img):\n",
    "    plt.imshow(img.permute(1, 2, 0))"
   ]
  },
  {
   "cell_type": "code",
   "execution_count": 54,
   "metadata": {},
   "outputs": [],
   "source": [
    "from torch.utils.data import Dataset, DataLoader\n",
    "from pathlib import Path\n",
    "from torchvision import transforms\n",
    "from PIL import Image\n",
    "\n",
    "class CustomDataset(Dataset):\n",
    "    def __init__(self, data_path, transform=[]):\n",
    "        self.data_path = data_path\n",
    "        self.transform = transform\n",
    "        self.total_imgs = sorted([p for p in Path(data_path).rglob(\"*.jpg\") if p.is_file()])\n",
    "        classes = [p.name for p in Path(data_path).glob(\"*\")]\n",
    "        self.classes_to_label = dict(zip(classes, range(len(classes))))\n",
    "\n",
    "    def __len__(self):\n",
    "        return len(self.total_imgs)\n",
    "    \n",
    "    def __getitem__(self, idx):\n",
    "        image = Image.open(self.total_imgs[idx])\n",
    "        if self.transform:\n",
    "            image = transforms.Compose(self.transform)(image)\n",
    "        label = self.total_imgs[idx].parent.name\n",
    "        class_label = self.classes_to_label[label]\n",
    "        return image, class_label\n",
    "\n",
    "transform = [transforms.Resize((124, 124)), transforms.ToTensor()]\n",
    "data_path = \"../tmp_files/seg_train/seg_train/\"\n",
    "train_ds = CustomDataset(data_path=data_path, transform=transform)\n"
   ]
  },
  {
   "cell_type": "code",
   "execution_count": 58,
   "metadata": {},
   "outputs": [
    {
     "ename": "AttributeError",
     "evalue": "'list' object has no attribute 'read'",
     "output_type": "error",
     "traceback": [
      "\u001b[0;31m---------------------------------------------------------------------------\u001b[0m",
      "\u001b[0;31mAttributeError\u001b[0m                            Traceback (most recent call last)",
      "\u001b[0;32m/content/Pkg_Path/PIL/Image.py\u001b[0m in \u001b[0;36mopen\u001b[0;34m(fp, mode, formats)\u001b[0m\n\u001b[1;32m   3071\u001b[0m     \u001b[0;32mtry\u001b[0m\u001b[0;34m:\u001b[0m\u001b[0;34m\u001b[0m\u001b[0m\n\u001b[0;32m-> 3072\u001b[0;31m         \u001b[0mfp\u001b[0m\u001b[0;34m.\u001b[0m\u001b[0mseek\u001b[0m\u001b[0;34m(\u001b[0m\u001b[0;36m0\u001b[0m\u001b[0;34m)\u001b[0m\u001b[0;34m\u001b[0m\u001b[0m\n\u001b[0m\u001b[1;32m   3073\u001b[0m     \u001b[0;32mexcept\u001b[0m \u001b[0;34m(\u001b[0m\u001b[0mAttributeError\u001b[0m\u001b[0;34m,\u001b[0m \u001b[0mio\u001b[0m\u001b[0;34m.\u001b[0m\u001b[0mUnsupportedOperation\u001b[0m\u001b[0;34m)\u001b[0m\u001b[0;34m:\u001b[0m\u001b[0;34m\u001b[0m\u001b[0m\n",
      "\u001b[0;31mAttributeError\u001b[0m: 'list' object has no attribute 'seek'",
      "\nDuring handling of the above exception, another exception occurred:\n",
      "\u001b[0;31mAttributeError\u001b[0m                            Traceback (most recent call last)",
      "\u001b[0;32m/tmp/ipykernel_8341/1367005279.py\u001b[0m in \u001b[0;36m<module>\u001b[0;34m\u001b[0m\n\u001b[1;32m      3\u001b[0m \u001b[0;34m\u001b[0m\u001b[0m\n\u001b[1;32m      4\u001b[0m \u001b[0;31m# train_indices, valid_indices = train_test_split(range(len(train_ds)), stratify=train_ds.)\u001b[0m\u001b[0;34m\u001b[0m\u001b[0;34m\u001b[0m\u001b[0m\n\u001b[0;32m----> 5\u001b[0;31m \u001b[0mtrain_ds\u001b[0m\u001b[0;34m[\u001b[0m\u001b[0;34m:\u001b[0m\u001b[0;36m20\u001b[0m\u001b[0;34m]\u001b[0m\u001b[0;34m\u001b[0m\u001b[0m\n\u001b[0m",
      "\u001b[0;32m/tmp/ipykernel_8341/68873824.py\u001b[0m in \u001b[0;36m__getitem__\u001b[0;34m(self, idx)\u001b[0m\n\u001b[1;32m     16\u001b[0m \u001b[0;34m\u001b[0m\u001b[0m\n\u001b[1;32m     17\u001b[0m     \u001b[0;32mdef\u001b[0m \u001b[0m__getitem__\u001b[0m\u001b[0;34m(\u001b[0m\u001b[0mself\u001b[0m\u001b[0;34m,\u001b[0m \u001b[0midx\u001b[0m\u001b[0;34m)\u001b[0m\u001b[0;34m:\u001b[0m\u001b[0;34m\u001b[0m\u001b[0m\n\u001b[0;32m---> 18\u001b[0;31m         \u001b[0mimage\u001b[0m \u001b[0;34m=\u001b[0m \u001b[0mImage\u001b[0m\u001b[0;34m.\u001b[0m\u001b[0mopen\u001b[0m\u001b[0;34m(\u001b[0m\u001b[0mself\u001b[0m\u001b[0;34m.\u001b[0m\u001b[0mtotal_imgs\u001b[0m\u001b[0;34m[\u001b[0m\u001b[0midx\u001b[0m\u001b[0;34m]\u001b[0m\u001b[0;34m)\u001b[0m\u001b[0;34m\u001b[0m\u001b[0m\n\u001b[0m\u001b[1;32m     19\u001b[0m         \u001b[0;32mif\u001b[0m \u001b[0mself\u001b[0m\u001b[0;34m.\u001b[0m\u001b[0mtransform\u001b[0m\u001b[0;34m:\u001b[0m\u001b[0;34m\u001b[0m\u001b[0m\n\u001b[1;32m     20\u001b[0m             \u001b[0mimage\u001b[0m \u001b[0;34m=\u001b[0m \u001b[0mtransforms\u001b[0m\u001b[0;34m.\u001b[0m\u001b[0mCompose\u001b[0m\u001b[0;34m(\u001b[0m\u001b[0mself\u001b[0m\u001b[0;34m.\u001b[0m\u001b[0mtransform\u001b[0m\u001b[0;34m)\u001b[0m\u001b[0;34m(\u001b[0m\u001b[0mimage\u001b[0m\u001b[0;34m)\u001b[0m\u001b[0;34m\u001b[0m\u001b[0m\n",
      "\u001b[0;32m/content/Pkg_Path/PIL/Image.py\u001b[0m in \u001b[0;36mopen\u001b[0;34m(fp, mode, formats)\u001b[0m\n\u001b[1;32m   3072\u001b[0m         \u001b[0mfp\u001b[0m\u001b[0;34m.\u001b[0m\u001b[0mseek\u001b[0m\u001b[0;34m(\u001b[0m\u001b[0;36m0\u001b[0m\u001b[0;34m)\u001b[0m\u001b[0;34m\u001b[0m\u001b[0m\n\u001b[1;32m   3073\u001b[0m     \u001b[0;32mexcept\u001b[0m \u001b[0;34m(\u001b[0m\u001b[0mAttributeError\u001b[0m\u001b[0;34m,\u001b[0m \u001b[0mio\u001b[0m\u001b[0;34m.\u001b[0m\u001b[0mUnsupportedOperation\u001b[0m\u001b[0;34m)\u001b[0m\u001b[0;34m:\u001b[0m\u001b[0;34m\u001b[0m\u001b[0m\n\u001b[0;32m-> 3074\u001b[0;31m         \u001b[0mfp\u001b[0m \u001b[0;34m=\u001b[0m \u001b[0mio\u001b[0m\u001b[0;34m.\u001b[0m\u001b[0mBytesIO\u001b[0m\u001b[0;34m(\u001b[0m\u001b[0mfp\u001b[0m\u001b[0;34m.\u001b[0m\u001b[0mread\u001b[0m\u001b[0;34m(\u001b[0m\u001b[0;34m)\u001b[0m\u001b[0;34m)\u001b[0m\u001b[0;34m\u001b[0m\u001b[0m\n\u001b[0m\u001b[1;32m   3075\u001b[0m         \u001b[0mexclusive_fp\u001b[0m \u001b[0;34m=\u001b[0m \u001b[0;32mTrue\u001b[0m\u001b[0;34m\u001b[0m\u001b[0m\n\u001b[1;32m   3076\u001b[0m \u001b[0;34m\u001b[0m\u001b[0m\n",
      "\u001b[0;31mAttributeError\u001b[0m: 'list' object has no attribute 'read'"
     ]
    }
   ],
   "source": [
    "from sklearn.model_selection import train_test_split\n",
    "val_split = 0.2\n",
    "   \n",
    "# train_indices, valid_indices = train_test_split(range(len(train_ds)), stratify=train_ds.)\n",
    "train_ds[:20]\n"
   ]
  },
  {
   "cell_type": "code",
   "execution_count": 126,
   "metadata": {},
   "outputs": [
    {
     "data": {
      "text/plain": [
       "61504"
      ]
     },
     "execution_count": 126,
     "metadata": {},
     "output_type": "execute_result"
    }
   ],
   "source": [
    "def conv_output_size(w, k=3, p=2, s=1):\n",
    "    return ((w - k + 2*p) / s + 1)\n",
    "conv_output_size(124,3,1,1)\n",
    "conv_output_size(124, 2, 0, 2)\n",
    "62*62*16\n",
    "# conv_output_size(1984, 1, 2)"
   ]
  },
  {
   "cell_type": "code",
   "execution_count": 110,
   "metadata": {},
   "outputs": [
    {
     "data": {
      "text/plain": [
       "246016"
      ]
     },
     "execution_count": 110,
     "metadata": {},
     "output_type": "execute_result"
    }
   ],
   "source": [
    "124*124*16"
   ]
  },
  {
   "cell_type": "code",
   "execution_count": 72,
   "metadata": {},
   "outputs": [
    {
     "data": {
      "text/plain": [
       "[2, 2, 2, 2, 3, 3, 3, 3, 7, 7]"
      ]
     },
     "execution_count": 72,
     "metadata": {},
     "output_type": "execute_result"
    }
   ],
   "source": [
    "def prime_factors(n):\n",
    "    i = 2\n",
    "    factors = []\n",
    "    while i * i <= n:\n",
    "        if n % i:\n",
    "            i += 1\n",
    "        else:\n",
    "            n //= i\n",
    "            factors.append(i)\n",
    "    if n > 1:\n",
    "        factors.append(n)\n",
    "    return factors\n",
    "prime_factors(63504)\n"
   ]
  },
  {
   "cell_type": "code",
   "execution_count": 81,
   "metadata": {},
   "outputs": [
    {
     "data": {
      "text/plain": [
       "147"
      ]
     },
     "execution_count": 81,
     "metadata": {},
     "output_type": "execute_result"
    }
   ],
   "source": [
    "7*7*3"
   ]
  }
 ],
 "metadata": {
  "interpreter": {
   "hash": "949777d72b0d2535278d3dc13498b2535136f6dfe0678499012e853ee9abcab1"
  },
  "kernelspec": {
   "display_name": "Python 3.7.0 ('base')",
   "language": "python",
   "name": "python3"
  },
  "language_info": {
   "codemirror_mode": {
    "name": "ipython",
    "version": 3
   },
   "file_extension": ".py",
   "mimetype": "text/x-python",
   "name": "python",
   "nbconvert_exporter": "python",
   "pygments_lexer": "ipython3",
   "version": "3.7.0"
  },
  "orig_nbformat": 4
 },
 "nbformat": 4,
 "nbformat_minor": 2
}

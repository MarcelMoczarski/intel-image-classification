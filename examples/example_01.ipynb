{
 "cells": [
  {
   "cell_type": "code",
   "execution_count": 1,
   "metadata": {},
   "outputs": [
    {
     "name": "stderr",
     "output_type": "stream",
     "text": [
      "/usr/local/lib/python3.7/site-packages/tqdm/auto.py:22: TqdmWarning: IProgress not found. Please update jupyter and ipywidgets. See https://ipywidgets.readthedocs.io/en/stable/user_install.html\n",
      "  from .autonotebook import tqdm as notebook_tqdm\n"
     ]
    }
   ],
   "source": [
    "import torch\n",
    "from torch import nn\n",
    "from tqdm import tqdm"
   ]
  },
  {
   "cell_type": "code",
   "execution_count": null,
   "metadata": {},
   "outputs": [],
   "source": [
    "# %load_ext nb_mypy\n",
    "%nb_mypy DebugOff"
   ]
  },
  {
   "cell_type": "code",
   "execution_count": 69,
   "metadata": {},
   "outputs": [
    {
     "name": "stderr",
     "output_type": "stream",
     "text": [
      "Program before typechecking:\n",
      "from IPython import get_ipython\n",
      "import torch\n",
      "from torch import nn\n",
      "from tqdm import tqdm\n",
      "pass\n",
      "pass\n",
      "pass\n",
      "pass\n",
      "import matplotlib.pyplot as plt\n",
      "\n",
      "\n",
      "def plot_img(img):\n",
      "    pass\n",
      "def conv_output_size(w, k=3, p=2, s=1):\n",
      "    return ((w - k + 2*p) / s + 1)\n",
      "\n",
      "def conv_block(img_size, n_in, nh, kernel_size, stride, padding, max_kernel=2):\n",
      "    modules = [\n",
      "    nn.Conv2d(n_in, nh, kernel_size, stride, padding),\n",
      "    nn.BatchNorm2d(nh),\n",
      "    nn.ReLU(),\n",
      "    nn.MaxPool2d(max_kernel)\n",
      "    ]\n",
      "    output_size = conv_output_size(img_size, k=kernel_size, p=padding, s=stride)\n",
      "    output_size = conv_output_size(output_size, k=max_kernel, p=0, s=max_kernel)\n",
      "    return modules, int(output_size)\n",
      "\n",
      "class CustomModel(nn.Module):\n",
      "    def __init__(self, n_in, n_out, nh, img_size, num_blocks, kernel_size=3, stride=1, padding=1):\n",
      "        super(CustomModel, self).__init__()\n",
      "        \n",
      "        modules_list = []\n",
      "\n",
      "        for n in range(num_blocks):\n",
      "            modules, output_size = conv_block(img_size, n_in, nh, kernel_size, stride, padding)\n",
      "            modules_list.extend(modules)\n",
      "            \n",
      "            img_size = output_size\n",
      "            n_in = nh\n",
      "            nh = 2*nh\n",
      "        self.conv = nn.Sequential(*modules_list)\n",
      "        output_size = output_size**2 * n_in\n",
      "\n",
      "        self.fc = nn.Sequential(\n",
      "            nn.Flatten(),\n",
      "            nn.Linear(output_size, n_out)\n",
      "        )\n",
      "    \n",
      "    def forward(self, x):\n",
      "        x = self.conv(x)\n",
      "        out = self.fc(x)\n",
      "        return out\n",
      "    \n",
      "net = CustomModel(img.size(1), 6, 16, 124, 4)\n",
      "\n",
      "\n",
      "\n",
      "<cell>41: error: Name \"img\" is not defined\n",
      "Finished type checking\n"
     ]
    }
   ],
   "source": [
    "def conv_output_size(w, k=3, p=2, s=1):\n",
    "    return ((w - k + 2*p) / s + 1)\n",
    "\n",
    "def conv_block(img_size, n_in, nh, kernel_size, stride, padding, max_kernel=2):\n",
    "    modules = [\n",
    "    nn.Conv2d(n_in, nh, kernel_size, stride, padding),\n",
    "    nn.BatchNorm2d(nh),\n",
    "    nn.ReLU(),\n",
    "    nn.MaxPool2d(max_kernel)\n",
    "    ]\n",
    "    output_size = conv_output_size(img_size, k=kernel_size, p=padding, s=stride)\n",
    "    output_size = conv_output_size(output_size, k=max_kernel, p=0, s=max_kernel)\n",
    "    return modules, int(output_size)\n",
    "\n",
    "class CustomModel(nn.Module):\n",
    "    def __init__(self, n_in, n_out, nh, img_size, num_blocks, kernel_size=3, stride=1, padding=1):\n",
    "        super(CustomModel, self).__init__()\n",
    "        \n",
    "        modules_list = []\n",
    "\n",
    "        for n in range(num_blocks):\n",
    "            modules, output_size = conv_block(img_size, n_in, nh, kernel_size, stride, padding)\n",
    "            modules_list.extend(modules)\n",
    "            \n",
    "            img_size = output_size\n",
    "            n_in = nh\n",
    "            nh = 2*nh\n",
    "        self.conv = nn.Sequential(*modules_list)\n",
    "        output_size = output_size**2 * n_in\n",
    "\n",
    "        self.fc = nn.Sequential(\n",
    "            nn.Flatten(),\n",
    "            nn.Linear(output_size, n_out)\n",
    "        )\n",
    "    \n",
    "    def forward(self, x):\n",
    "        x = self.conv(x)\n",
    "        out = self.fc(x)\n",
    "        return out\n",
    "    \n",
    "net = CustomModel(img.size(1), 6, 16, 124, 4)\n",
    "\n"
   ]
  },
  {
   "cell_type": "code",
   "execution_count": 64,
   "metadata": {},
   "outputs": [],
   "source": [
    "import matplotlib.pyplot as plt\n",
    "def plot_img(img):\n",
    "    plt.imshow(img.permute(1, 2, 0))"
   ]
  },
  {
   "cell_type": "code",
   "execution_count": 54,
   "metadata": {},
   "outputs": [],
   "source": [
    "from torch.utils.data import Dataset, DataLoader\n",
    "from pathlib import Path\n",
    "from torchvision import transforms\n",
    "from PIL import Image\n",
    "\n",
    "class CustomDataset(Dataset):\n",
    "    def __init__(self, data_path, transform=[]):\n",
    "        self.data_path = data_path\n",
    "        self.transform = transform\n",
    "        self.total_imgs = sorted([p for p in Path(data_path).rglob(\"*.jpg\") if p.is_file()])\n",
    "        classes = [p.name for p in Path(data_path).glob(\"*\")]\n",
    "        self.classes_to_label = dict(zip(classes, range(len(classes))))\n",
    "\n",
    "    def __len__(self):\n",
    "        return len(self.total_imgs)\n",
    "    \n",
    "    def __getitem__(self, idx):\n",
    "        image = Image.open(self.total_imgs[idx])\n",
    "        if self.transform:\n",
    "            image = transforms.Compose(self.transform)(image)\n",
    "        label = self.total_imgs[idx].parent.name\n",
    "        class_label = self.classes_to_label[label]\n",
    "        return image, class_label\n",
    "\n",
    "transform = [transforms.Resize((124, 124)), transforms.ToTensor()]\n",
    "data_path = \"../tmp_files/seg_train/seg_train/\"\n",
    "train_ds = CustomDataset(data_path=data_path, transform=transform)\n"
   ]
  },
  {
   "cell_type": "code",
   "execution_count": 58,
   "metadata": {},
   "outputs": [
    {
     "ename": "AttributeError",
     "evalue": "'list' object has no attribute 'read'",
     "output_type": "error",
     "traceback": [
      "\u001b[0;31m---------------------------------------------------------------------------\u001b[0m",
      "\u001b[0;31mAttributeError\u001b[0m                            Traceback (most recent call last)",
      "\u001b[0;32m/content/Pkg_Path/PIL/Image.py\u001b[0m in \u001b[0;36mopen\u001b[0;34m(fp, mode, formats)\u001b[0m\n\u001b[1;32m   3071\u001b[0m     \u001b[0;32mtry\u001b[0m\u001b[0;34m:\u001b[0m\u001b[0;34m\u001b[0m\u001b[0m\n\u001b[0;32m-> 3072\u001b[0;31m         \u001b[0mfp\u001b[0m\u001b[0;34m.\u001b[0m\u001b[0mseek\u001b[0m\u001b[0;34m(\u001b[0m\u001b[0;36m0\u001b[0m\u001b[0;34m)\u001b[0m\u001b[0;34m\u001b[0m\u001b[0m\n\u001b[0m\u001b[1;32m   3073\u001b[0m     \u001b[0;32mexcept\u001b[0m \u001b[0;34m(\u001b[0m\u001b[0mAttributeError\u001b[0m\u001b[0;34m,\u001b[0m \u001b[0mio\u001b[0m\u001b[0;34m.\u001b[0m\u001b[0mUnsupportedOperation\u001b[0m\u001b[0;34m)\u001b[0m\u001b[0;34m:\u001b[0m\u001b[0;34m\u001b[0m\u001b[0m\n",
      "\u001b[0;31mAttributeError\u001b[0m: 'list' object has no attribute 'seek'",
      "\nDuring handling of the above exception, another exception occurred:\n",
      "\u001b[0;31mAttributeError\u001b[0m                            Traceback (most recent call last)",
      "\u001b[0;32m/tmp/ipykernel_8341/1367005279.py\u001b[0m in \u001b[0;36m<module>\u001b[0;34m\u001b[0m\n\u001b[1;32m      3\u001b[0m \u001b[0;34m\u001b[0m\u001b[0m\n\u001b[1;32m      4\u001b[0m \u001b[0;31m# train_indices, valid_indices = train_test_split(range(len(train_ds)), stratify=train_ds.)\u001b[0m\u001b[0;34m\u001b[0m\u001b[0;34m\u001b[0m\u001b[0m\n\u001b[0;32m----> 5\u001b[0;31m \u001b[0mtrain_ds\u001b[0m\u001b[0;34m[\u001b[0m\u001b[0;34m:\u001b[0m\u001b[0;36m20\u001b[0m\u001b[0;34m]\u001b[0m\u001b[0;34m\u001b[0m\u001b[0m\n\u001b[0m",
      "\u001b[0;32m/tmp/ipykernel_8341/68873824.py\u001b[0m in \u001b[0;36m__getitem__\u001b[0;34m(self, idx)\u001b[0m\n\u001b[1;32m     16\u001b[0m \u001b[0;34m\u001b[0m\u001b[0m\n\u001b[1;32m     17\u001b[0m     \u001b[0;32mdef\u001b[0m \u001b[0m__getitem__\u001b[0m\u001b[0;34m(\u001b[0m\u001b[0mself\u001b[0m\u001b[0;34m,\u001b[0m \u001b[0midx\u001b[0m\u001b[0;34m)\u001b[0m\u001b[0;34m:\u001b[0m\u001b[0;34m\u001b[0m\u001b[0m\n\u001b[0;32m---> 18\u001b[0;31m         \u001b[0mimage\u001b[0m \u001b[0;34m=\u001b[0m \u001b[0mImage\u001b[0m\u001b[0;34m.\u001b[0m\u001b[0mopen\u001b[0m\u001b[0;34m(\u001b[0m\u001b[0mself\u001b[0m\u001b[0;34m.\u001b[0m\u001b[0mtotal_imgs\u001b[0m\u001b[0;34m[\u001b[0m\u001b[0midx\u001b[0m\u001b[0;34m]\u001b[0m\u001b[0;34m)\u001b[0m\u001b[0;34m\u001b[0m\u001b[0m\n\u001b[0m\u001b[1;32m     19\u001b[0m         \u001b[0;32mif\u001b[0m \u001b[0mself\u001b[0m\u001b[0;34m.\u001b[0m\u001b[0mtransform\u001b[0m\u001b[0;34m:\u001b[0m\u001b[0;34m\u001b[0m\u001b[0m\n\u001b[1;32m     20\u001b[0m             \u001b[0mimage\u001b[0m \u001b[0;34m=\u001b[0m \u001b[0mtransforms\u001b[0m\u001b[0;34m.\u001b[0m\u001b[0mCompose\u001b[0m\u001b[0;34m(\u001b[0m\u001b[0mself\u001b[0m\u001b[0;34m.\u001b[0m\u001b[0mtransform\u001b[0m\u001b[0;34m)\u001b[0m\u001b[0;34m(\u001b[0m\u001b[0mimage\u001b[0m\u001b[0;34m)\u001b[0m\u001b[0;34m\u001b[0m\u001b[0m\n",
      "\u001b[0;32m/content/Pkg_Path/PIL/Image.py\u001b[0m in \u001b[0;36mopen\u001b[0;34m(fp, mode, formats)\u001b[0m\n\u001b[1;32m   3072\u001b[0m         \u001b[0mfp\u001b[0m\u001b[0;34m.\u001b[0m\u001b[0mseek\u001b[0m\u001b[0;34m(\u001b[0m\u001b[0;36m0\u001b[0m\u001b[0;34m)\u001b[0m\u001b[0;34m\u001b[0m\u001b[0m\n\u001b[1;32m   3073\u001b[0m     \u001b[0;32mexcept\u001b[0m \u001b[0;34m(\u001b[0m\u001b[0mAttributeError\u001b[0m\u001b[0;34m,\u001b[0m \u001b[0mio\u001b[0m\u001b[0;34m.\u001b[0m\u001b[0mUnsupportedOperation\u001b[0m\u001b[0;34m)\u001b[0m\u001b[0;34m:\u001b[0m\u001b[0;34m\u001b[0m\u001b[0m\n\u001b[0;32m-> 3074\u001b[0;31m         \u001b[0mfp\u001b[0m \u001b[0;34m=\u001b[0m \u001b[0mio\u001b[0m\u001b[0;34m.\u001b[0m\u001b[0mBytesIO\u001b[0m\u001b[0;34m(\u001b[0m\u001b[0mfp\u001b[0m\u001b[0;34m.\u001b[0m\u001b[0mread\u001b[0m\u001b[0;34m(\u001b[0m\u001b[0;34m)\u001b[0m\u001b[0;34m)\u001b[0m\u001b[0;34m\u001b[0m\u001b[0m\n\u001b[0m\u001b[1;32m   3075\u001b[0m         \u001b[0mexclusive_fp\u001b[0m \u001b[0;34m=\u001b[0m \u001b[0;32mTrue\u001b[0m\u001b[0;34m\u001b[0m\u001b[0m\n\u001b[1;32m   3076\u001b[0m \u001b[0;34m\u001b[0m\u001b[0m\n",
      "\u001b[0;31mAttributeError\u001b[0m: 'list' object has no attribute 'read'"
     ]
    }
   ],
   "source": [
    "from sklearn.model_selection import train_test_split\n",
    "val_split = 0.2\n",
    "   \n",
    "# train_indices, valid_indices = train_test_split(range(len(train_ds)), stratify=train_ds.)\n",
    "train_ds[:20]\n"
   ]
  },
  {
   "cell_type": "code",
   "execution_count": 126,
   "metadata": {},
   "outputs": [
    {
     "data": {
      "text/plain": [
       "61504"
      ]
     },
     "execution_count": 126,
     "metadata": {},
     "output_type": "execute_result"
    }
   ],
   "source": [
    "def conv_output_size(w, k=3, p=2, s=1):\n",
    "    return ((w - k + 2*p) / s + 1)\n",
    "conv_output_size(124,3,1,1)\n",
    "conv_output_size(124, 2, 0, 2)\n",
    "62*62*16\n",
    "# conv_output_size(1984, 1, 2)"
   ]
  },
  {
   "cell_type": "code",
   "execution_count": 110,
   "metadata": {},
   "outputs": [
    {
     "data": {
      "text/plain": [
       "246016"
      ]
     },
     "execution_count": 110,
     "metadata": {},
     "output_type": "execute_result"
    }
   ],
   "source": [
    "124*124*16"
   ]
  },
  {
   "cell_type": "code",
   "execution_count": 72,
   "metadata": {},
   "outputs": [
    {
     "data": {
      "text/plain": [
       "[2, 2, 2, 2, 3, 3, 3, 3, 7, 7]"
      ]
     },
     "execution_count": 72,
     "metadata": {},
     "output_type": "execute_result"
    }
   ],
   "source": [
    "def prime_factors(n):\n",
    "    i = 2\n",
    "    factors = []\n",
    "    while i * i <= n:\n",
    "        if n % i:\n",
    "            i += 1\n",
    "        else:\n",
    "            n //= i\n",
    "            factors.append(i)\n",
    "    if n > 1:\n",
    "        factors.append(n)\n",
    "    return factors\n",
    "prime_factors(63504)\n"
   ]
  },
  {
   "cell_type": "code",
   "execution_count": 81,
   "metadata": {},
   "outputs": [
    {
     "data": {
      "text/plain": [
       "147"
      ]
     },
     "execution_count": 81,
     "metadata": {},
     "output_type": "execute_result"
    }
   ],
   "source": [
    "7*7*3"
   ]
  }
 ],
 "metadata": {
  "interpreter": {
   "hash": "949777d72b0d2535278d3dc13498b2535136f6dfe0678499012e853ee9abcab1"
  },
  "kernelspec": {
   "display_name": "Python 3.7.0 ('base')",
   "language": "python",
   "name": "python3"
  },
  "language_info": {
   "codemirror_mode": {
    "name": "ipython",
    "version": 3
   },
   "file_extension": ".py",
   "mimetype": "text/x-python",
   "name": "python",
   "nbconvert_exporter": "python",
   "pygments_lexer": "ipython3",
   "version": "3.7.0"
  },
  "orig_nbformat": 4
 },
 "nbformat": 4,
 "nbformat_minor": 2
}

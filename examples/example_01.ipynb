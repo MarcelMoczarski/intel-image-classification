{
 "cells": [
  {
   "cell_type": "code",
   "execution_count": 1,
   "metadata": {},
   "outputs": [
    {
     "name": "stderr",
     "output_type": "stream",
     "text": [
      "/usr/local/lib/python3.7/site-packages/tqdm/auto.py:22: TqdmWarning: IProgress not found. Please update jupyter and ipywidgets. See https://ipywidgets.readthedocs.io/en/stable/user_install.html\n",
      "  from .autonotebook import tqdm as notebook_tqdm\n"
     ]
    }
   ],
   "source": [
    "import torch\n",
    "from torch import nn\n",
    "from tqdm import tqdm\n",
    "import toml\n",
    "os.chdir(\"..\")"
   ]
  },
  {
   "cell_type": "code",
   "execution_count": 2,
   "metadata": {},
   "outputs": [],
   "source": [
    "from core.dl_framework.data import Dataset\n",
    "from core.dl_framework.utils import read_config\n",
    "config_file = read_config(toml.load(\"configs/default_train_config.toml\"))"
   ]
  },
  {
   "cell_type": "code",
   "execution_count": 104,
   "metadata": {},
   "outputs": [],
   "source": [
    "from core.dl_framework.data import data_pipeline\n",
    "from core.dl_framework.learner import Learner\n",
    "from pathlib import Path\n",
    "import numpy as np\n",
    "from torchvision import transforms\n",
    "from sklearn.model_selection import train_test_split\n",
    "config_file = read_config(toml.load(\"configs/default_train_config.toml\"))\n",
    "train_data_path = \"seg_train/seg_train\"\n",
    "data_test = data_pipeline(config_file, train_data_path, \"train_data\", True)\n",
    "learn = Learner(data_test, config_file)\n"
   ]
  },
  {
   "cell_type": "code",
   "execution_count": null,
   "metadata": {},
   "outputs": [],
   "source": [
    "learn.fit(2)"
   ]
  },
  {
   "cell_type": "code",
   "execution_count": null,
   "metadata": {},
   "outputs": [],
   "source": [
    "import sys\n",
    "def sizeof_fmt(num, suffix='B'):\n",
    "    ''' by Fred Cirera,  https://stackoverflow.com/a/1094933/1870254, modified'''\n",
    "    for unit in ['','Ki','Mi','Gi','Ti','Pi','Ei','Zi']:\n",
    "        if abs(num) < 1024.0:\n",
    "            return \"%3.1f %s%s\" % (num, unit, suffix)\n",
    "        num /= 1024.0\n",
    "    return \"%.1f %s%s\" % (num, 'Yi', suffix)\n",
    "\n",
    "for name, size in sorted(((name, sys.getsizeof(value)) for name, value in locals().items()),\n",
    "                         key= lambda x: -x[1])[:10]:\n",
    "    print(\"{:>30}: {:>8}\".format(name, sizeof_fmt(size)))"
   ]
  },
  {
   "cell_type": "code",
   "execution_count": 120,
   "metadata": {},
   "outputs": [
    {
     "data": {
      "text/plain": [
       "124"
      ]
     },
     "execution_count": 120,
     "metadata": {},
     "output_type": "execute_result"
    }
   ],
   "source": [
    "def conv_output_size(w, k=3, p=2, s=1):\n",
    "    return ((w - k + 2*p) / s + 1)\n",
    "\n",
    "def conv_block(img_size, n_in, nh, kernel_size, stride, padding, max_kernel=2):\n",
    "    modules = [\n",
    "    nn.Conv2d(n_in, nh, kernel_size, stride, padding),\n",
    "    nn.BatchNorm2d(nh),\n",
    "    nn.ReLU(),\n",
    "    nn.MaxPool2d(max_kernel)\n",
    "    ]\n",
    "    output_size = conv_output_size(img_size, k=kernel_size, p=padding, s=stride)\n",
    "    output_size = conv_output_size(output_size, k=max_kernel, p=0, s=max_kernel)\n",
    "    return modules, int(output_size)\n",
    "\n",
    "class CustomModel(nn.Module):\n",
    "    def __init__(self, n_in, n_out, nh, img_size, num_blocks, kernel_size=3, stride=1, padding=1):\n",
    "        super(CustomModel, self).__init__()\n",
    "        \n",
    "        modules_list = []\n",
    "\n",
    "        for n in range(num_blocks):\n",
    "            modules, output_size = conv_block(img_size, n_in, nh, kernel_size, stride, padding)\n",
    "            modules_list.extend(modules)\n",
    "            \n",
    "            img_size = output_size\n",
    "            n_in = nh\n",
    "            nh = 2*nh\n",
    "        self.conv = nn.Sequential(*modules_list)\n",
    "        output_size = output_size**2 * n_in\n",
    "\n",
    "        self.fc = nn.Sequential(\n",
    "            nn.Flatten(),\n",
    "            nn.Linear(output_size, n_out)\n",
    "        )\n",
    "    \n",
    "    def forward(self, x):\n",
    "        x = self.conv(x)\n",
    "        out = self.fc(x)\n",
    "        return out\n",
    "    \n",
    "img = next(iter(data_test.train_dl))[0]\n",
    "net = CustomModel(img.size(1), 6, 16, 124, 4)\n",
    "img.size(2)\n"
   ]
  },
  {
   "cell_type": "code",
   "execution_count": 114,
   "metadata": {},
   "outputs": [
    {
     "data": {
      "text/plain": [
       "torch.Size([64, 3, 124, 124])"
      ]
     },
     "execution_count": 114,
     "metadata": {},
     "output_type": "execute_result"
    }
   ],
   "source": [
    "img = next(iter(data_test.train_dl))[0]\n",
    "img.shape"
   ]
  },
  {
   "cell_type": "code",
   "execution_count": 126,
   "metadata": {},
   "outputs": [
    {
     "data": {
      "text/plain": [
       "61504"
      ]
     },
     "execution_count": 126,
     "metadata": {},
     "output_type": "execute_result"
    }
   ],
   "source": [
    "def conv_output_size(w, k=3, p=2, s=1):\n",
    "    return ((w - k + 2*p) / s + 1)\n",
    "conv_output_size(124,3,1,1)\n",
    "conv_output_size(124, 2, 0, 2)\n",
    "62*62*16\n",
    "# conv_output_size(1984, 1, 2)"
   ]
  }
 ],
 "metadata": {
  "interpreter": {
   "hash": "949777d72b0d2535278d3dc13498b2535136f6dfe0678499012e853ee9abcab1"
  },
  "kernelspec": {
   "display_name": "Python 3.7.0 ('base')",
   "language": "python",
   "name": "python3"
  },
  "language_info": {
   "codemirror_mode": {
    "name": "ipython",
    "version": 3
   },
   "file_extension": ".py",
   "mimetype": "text/x-python",
   "name": "python",
   "nbconvert_exporter": "python",
   "pygments_lexer": "ipython3",
   "version": "3.7.0"
  },
  "orig_nbformat": 4
 },
 "nbformat": 4,
 "nbformat_minor": 2
}

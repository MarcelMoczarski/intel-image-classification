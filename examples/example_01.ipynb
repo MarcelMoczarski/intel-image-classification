{
 "cells": [
  {
   "cell_type": "code",
   "execution_count": 1,
   "metadata": {},
   "outputs": [
    {
     "name": "stderr",
     "output_type": "stream",
     "text": [
      "/home/elhanzo/.local/miniconda3/envs/iic/lib/python3.10/site-packages/tqdm/auto.py:22: TqdmWarning: IProgress not found. Please update jupyter and ipywidgets. See https://ipywidgets.readthedocs.io/en/stable/user_install.html\n",
      "  from .autonotebook import tqdm as notebook_tqdm\n"
     ]
    }
   ],
   "source": [
    "import torch\n",
    "from torch import nn\n",
    "from tqdm import tqdm\n",
    "import toml\n",
    "os.chdir(\"..\")"
   ]
  },
  {
   "cell_type": "code",
   "execution_count": 244,
   "metadata": {},
   "outputs": [
    {
     "name": "stderr",
     "output_type": "stream",
     "text": [
      "Downloading: \"https://download.pytorch.org/models/resnet101-63fe2227.pth\" to /home/elhanzo/.cache/torch/hub/checkpoints/resnet101-63fe2227.pth\n",
      "100%|██████████| 171M/171M [00:06<00:00, 26.1MB/s] \n"
     ]
    }
   ],
   "source": [
    "from torchvision import models\n",
    "model = models.resnet101(pretrained=True)"
   ]
  },
  {
   "cell_type": "code",
   "execution_count": 245,
   "metadata": {},
   "outputs": [],
   "source": [
    "from core.dl_framework.utils import read_config\n",
    "from core.dl_framework.data import data_pipeline\n",
    "from core.dl_framework.learner import Learner\n",
    "from pathlib import Path\n",
    "import numpy as np\n",
    "from torchvision import transforms\n",
    "config_file = read_config(toml.load(\"configs/default_train_config.toml\"))\n",
    "config_file = read_config(toml.load(\"configs/default_train_config.toml\"))\n",
    "train_data_path = \"seg_train/seg_train\"\n",
    "data = data_pipeline(config_file, train_data_path, \"train_data\", False)\n",
    "learn = Learner(data, config_file, model)\n",
    "# data_norm = next(iter(data.train_dl))\n",
    "\n"
   ]
  },
  {
   "cell_type": "code",
   "execution_count": 246,
   "metadata": {},
   "outputs": [
    {
     "name": "stderr",
     "output_type": "stream",
     "text": [
      "100%|██████████| 175/175 [01:11<00:00,  2.45it/s]\n",
      "100%|██████████| 44/44 [00:06<00:00,  6.77it/s]\n"
     ]
    },
    {
     "name": "stdout",
     "output_type": "stream",
     "text": [
      "epoch: 1/20\t[valid_acc: 0.9224\tvalid_acc_per_class: [0.9083 0.9848 0.8837 0.868  0.9634 0.9306]\tvalid_loss: 85.4058\ttrain_loss: 88.5198\ttrain_time: 00:01:19]\n",
      "best checkpoint: valid_loss: 85.40582604841752\n"
     ]
    },
    {
     "name": "stderr",
     "output_type": "stream",
     "text": [
      "100%|██████████| 175/175 [01:12<00:00,  2.42it/s]\n",
      "100%|██████████| 44/44 [00:06<00:00,  6.80it/s]\n"
     ]
    },
    {
     "name": "stdout",
     "output_type": "stream",
     "text": [
      "epoch: 2/20\t[valid_acc: 0.9341\tvalid_acc_per_class: [0.9307 0.9873 0.9059 0.887  0.9631 0.9371]\tvalid_loss: 80.0291\ttrain_loss: 82.6784\ttrain_time: 00:02:54]\n",
      "best checkpoint: valid_loss: 80.02906851335005\n"
     ]
    },
    {
     "name": "stderr",
     "output_type": "stream",
     "text": [
      "100%|██████████| 175/175 [01:12<00:00,  2.42it/s]\n",
      "100%|██████████| 44/44 [00:06<00:00,  6.69it/s]\n"
     ]
    },
    {
     "name": "stdout",
     "output_type": "stream",
     "text": [
      "epoch: 3/20\t[valid_acc: 0.9306\tvalid_acc_per_class: [0.9231 0.9873 0.9081 0.8708 0.9624 0.9367]\tvalid_loss: 74.7831\ttrain_loss: 77.2823\ttrain_time: 00:04:29]\n",
      "best checkpoint: valid_loss: 74.78313515403055\n"
     ]
    },
    {
     "name": "stderr",
     "output_type": "stream",
     "text": [
      "100%|██████████| 175/175 [01:12<00:00,  2.42it/s]\n",
      "100%|██████████| 44/44 [00:06<00:00,  6.81it/s]\n"
     ]
    },
    {
     "name": "stdout",
     "output_type": "stream",
     "text": [
      "epoch: 4/20\t[valid_acc: 0.9292\tvalid_acc_per_class: [0.9269 0.9873 0.9084 0.8559 0.9609 0.9468]\tvalid_loss: 69.6532\ttrain_loss: 72.0276\ttrain_time: 00:06:04]\n",
      "best checkpoint: valid_loss: 69.65316720442338\n"
     ]
    },
    {
     "name": "stderr",
     "output_type": "stream",
     "text": [
      "100%|██████████| 175/175 [01:12<00:00,  2.42it/s]\n",
      "100%|██████████| 44/44 [00:06<00:00,  6.71it/s]\n"
     ]
    },
    {
     "name": "stdout",
     "output_type": "stream",
     "text": [
      "epoch: 5/20\t[valid_acc: 0.9310\tvalid_acc_per_class: [0.9201 0.989  0.909  0.8667 0.9624 0.9455]\tvalid_loss: 64.7069\ttrain_loss: 66.9468\ttrain_time: 00:07:38]\n",
      "best checkpoint: valid_loss: 64.70687033913352\n"
     ]
    },
    {
     "name": "stderr",
     "output_type": "stream",
     "text": [
      "  3%|▎         | 5/175 [00:02<01:38,  1.72it/s]"
     ]
    },
    {
     "name": "stdout",
     "output_type": "stream",
     "text": [
      "Unexpected exception formatting exception. Falling back to standard exception\n"
     ]
    },
    {
     "name": "stderr",
     "output_type": "stream",
     "text": [
      "\n",
      "Traceback (most recent call last):\n",
      "  File \"/home/elhanzo/.local/miniconda3/envs/iic/lib/python3.10/site-packages/IPython/core/interactiveshell.py\", line 3369, in run_code\n",
      "    exec(code_obj, self.user_global_ns, self.user_ns)\n",
      "  File \"/tmp/ipykernel_5380/2601539246.py\", line 1, in <cell line: 1>\n",
      "    learn.fit(20)\n",
      "  File \"/mnt/f/Insync/Marcel_Moczarski/Data_Science/Projects/intel-image-classification/core/dl_framework/learner.py\", line 57, in fit\n",
      "    self.all_batches(self.learn.data.train_dl)\n",
      "  File \"/mnt/f/Insync/Marcel_Moczarski/Data_Science/Projects/intel-image-classification/core/dl_framework/learner.py\", line 69, in all_batches\n",
      "    self.cbh.on_batch_end()\n",
      "  File \"/mnt/f/Insync/Marcel_Moczarski/Data_Science/Projects/intel-image-classification/core/dl_framework/callbacks.py\", line 95, in on_batch_end\n",
      "    cb.on_batch_end()\n",
      "  File \"/mnt/f/Insync/Marcel_Moczarski/Data_Science/Projects/intel-image-classification/core/dl_framework/callbacks.py\", line 204, in on_batch_end\n",
      "    batch_correct = (batch_pred == self.yb).sum().item() / len(self.yb)\n",
      "KeyboardInterrupt\n",
      "\n",
      "During handling of the above exception, another exception occurred:\n",
      "\n",
      "Traceback (most recent call last):\n",
      "  File \"/home/elhanzo/.local/miniconda3/envs/iic/lib/python3.10/site-packages/IPython/core/interactiveshell.py\", line 1982, in showtraceback\n",
      "    stb = self.InteractiveTB.structured_traceback(\n",
      "  File \"/home/elhanzo/.local/miniconda3/envs/iic/lib/python3.10/site-packages/IPython/core/ultratb.py\", line 1118, in structured_traceback\n",
      "    return FormattedTB.structured_traceback(\n",
      "  File \"/home/elhanzo/.local/miniconda3/envs/iic/lib/python3.10/site-packages/IPython/core/ultratb.py\", line 1012, in structured_traceback\n",
      "    return VerboseTB.structured_traceback(\n",
      "  File \"/home/elhanzo/.local/miniconda3/envs/iic/lib/python3.10/site-packages/IPython/core/ultratb.py\", line 865, in structured_traceback\n",
      "    formatted_exception = self.format_exception_as_a_whole(etype, evalue, etb, number_of_lines_of_context,\n",
      "  File \"/home/elhanzo/.local/miniconda3/envs/iic/lib/python3.10/site-packages/IPython/core/ultratb.py\", line 818, in format_exception_as_a_whole\n",
      "    frames.append(self.format_record(r))\n",
      "  File \"/home/elhanzo/.local/miniconda3/envs/iic/lib/python3.10/site-packages/IPython/core/ultratb.py\", line 736, in format_record\n",
      "    result += ''.join(_format_traceback_lines(frame_info.lines, Colors, self.has_colors, lvals))\n",
      "  File \"/home/elhanzo/.local/miniconda3/envs/iic/lib/python3.10/site-packages/stack_data/utils.py\", line 145, in cached_property_wrapper\n",
      "    value = obj.__dict__[self.func.__name__] = self.func(obj)\n",
      "  File \"/home/elhanzo/.local/miniconda3/envs/iic/lib/python3.10/site-packages/stack_data/core.py\", line 698, in lines\n",
      "    pieces = self.included_pieces\n",
      "  File \"/home/elhanzo/.local/miniconda3/envs/iic/lib/python3.10/site-packages/stack_data/utils.py\", line 145, in cached_property_wrapper\n",
      "    value = obj.__dict__[self.func.__name__] = self.func(obj)\n",
      "  File \"/home/elhanzo/.local/miniconda3/envs/iic/lib/python3.10/site-packages/stack_data/core.py\", line 649, in included_pieces\n",
      "    pos = scope_pieces.index(self.executing_piece)\n",
      "  File \"/home/elhanzo/.local/miniconda3/envs/iic/lib/python3.10/site-packages/stack_data/utils.py\", line 145, in cached_property_wrapper\n",
      "    value = obj.__dict__[self.func.__name__] = self.func(obj)\n",
      "  File \"/home/elhanzo/.local/miniconda3/envs/iic/lib/python3.10/site-packages/stack_data/core.py\", line 628, in executing_piece\n",
      "    return only(\n",
      "  File \"/home/elhanzo/.local/miniconda3/envs/iic/lib/python3.10/site-packages/executing/executing.py\", line 164, in only\n",
      "    raise NotOneValueFound('Expected one value, found 0')\n",
      "executing.executing.NotOneValueFound: Expected one value, found 0\n"
     ]
    }
   ],
   "source": [
    "learn.fit(20)"
   ]
  },
  {
   "cell_type": "code",
   "execution_count": null,
   "metadata": {},
   "outputs": [],
   "source": []
  },
  {
   "cell_type": "code",
   "execution_count": 25,
   "metadata": {},
   "outputs": [],
   "source": [
    "from core.dl_framework.data import CustomDataset\n",
    "from core.dl_framework.data import get_transforms\n",
    "data_path = (Path(config_file[\"p_local_data_path\"]) / \"processed_files\" / \"train_data\" ).with_suffix(\".h5\")\n",
    "transform = get_transforms(config_file)\n",
    "dataset = CustomDataset(data_path, transform)"
   ]
  },
  {
   "cell_type": "code",
   "execution_count": 183,
   "metadata": {},
   "outputs": [],
   "source": [
    "from core.dl_framework.utils import get_specific_history\n",
    "from core.dl_framework.utils import plot_history_all\n",
    "best_history = get_specific_history(Path(config_file[\"c_c_ckp_path\"]), monitor=\"valid_acc\", browse_all_files=True)\n",
    "best_model_dict = torch.load(best_history[-1])\n",
    "learn.learn.model.load_state_dict(best_model_dict[\"state_dict\"])\n",
    "learn.learn.opt.load_state_dict(best_model_dict[\"optimizer\"])"
   ]
  },
  {
   "cell_type": "code",
   "execution_count": 208,
   "metadata": {},
   "outputs": [
    {
     "name": "stderr",
     "output_type": "stream",
     "text": [
      "100%|██████████| 14034/14034 [00:42<00:00, 329.55it/s]\n"
     ]
    }
   ],
   "source": [
    "from torch.utils.data import DataLoader\n",
    "def get_mean_and_std(dataloader):\n",
    "    pbar_dl = tqdm(dataloader, total=len(dataloader))\n",
    "    channels_sum, channels_squared_sum, num_batches = 0, 0, 0\n",
    "    for i, (xb, yb) in enumerate(pbar_dl):\n",
    "        channels_sum += torch.mean(xb, dim=[0, 2, 3])\n",
    "        channels_squared_sum += torch.mean(xb**2, dim=[0, 2, 3])\n",
    "        num_batches += 1\n",
    "\n",
    "    mean = channels_sum / num_batches\n",
    "    std = (channels_squared_sum / num_batches - mean**2)**0.5\n",
    "    return mean, std\n",
    "\n",
    "# DataLoader(len(data.train_dl.dataset), batch_size=64)\n",
    "# channels_sum, channels_squared_sum, num_batches = 0, 0, 0\n",
    "# pbar_ds = tqdm(data.train_dl.dataset, total=len(data.train_dl.dataset))\n",
    "\n",
    "# for xs, ys in pbar_ds:\n",
    "#     channels_sum += torch.mean(xb, dim=[0, 2, 3])\n",
    "#     channels_squared_sum += torch.mean(xb**2, dim=[0, 2, 3])\n",
    "#     num_batches += 1\n",
    "\n",
    "# mean = channels_sum / num_batches\n",
    "# std = (channels_squared_sum / num_batches - mean**2)**0.5"
   ]
  },
  {
   "cell_type": "code",
   "execution_count": 123,
   "metadata": {},
   "outputs": [
    {
     "name": "stderr",
     "output_type": "stream",
     "text": [
      "100%|██████████| 44/44 [00:01<00:00, 25.81it/s]"
     ]
    },
    {
     "name": "stdout",
     "output_type": "stream",
     "text": [
      "0.7915030991735538\n"
     ]
    },
    {
     "name": "stderr",
     "output_type": "stream",
     "text": [
      "\n"
     ]
    }
   ],
   "source": [
    "def test_arch(learn, model):\n",
    "    valid_dl = learn.learn.data.valid_dl\n",
    "    device = learn.device\n",
    "    model = model.to(device)\n",
    "    criterion = learn.learn.loss_func\n",
    "    model.eval()\n",
    "    with torch.no_grad():\n",
    "        correct = 0\n",
    "        pbar_valid_dl = tqdm(valid_dl, total=len(valid_dl))\n",
    "        for xb, yb, idx in pbar_valid_dl:\n",
    "            xb, yb = xb.to(device), yb.to(device)\n",
    "            out = model(xb)\n",
    "            _, pred = torch.max(out.data, 1)\n",
    "            correct += (pred == yb).sum().item() / len(yb)\n",
    "            loss = criterion.calc(out, yb)\n",
    "        print(correct/len(valid_dl))\n",
    "        \n",
    "\n",
    "test_arch(learn, learn.learn.model)\n"
   ]
  },
  {
   "cell_type": "code",
   "execution_count": 237,
   "metadata": {},
   "outputs": [
    {
     "data": {
      "text/plain": [
       "2"
      ]
     },
     "execution_count": 237,
     "metadata": {},
     "output_type": "execute_result"
    }
   ],
   "source": [
    "from PIL import Image\n",
    "from core.dl_framework.data import get_transforms\n",
    "\n",
    "test_img = Image.open(\"test_img.jpg\")\n",
    "t = get_transforms(config_file)\n",
    "transform = transforms.Compose([t[0], transforms.ToTensor(), t[-1]])\n",
    "img = transform(test_img).unsqueeze(0)\n",
    "out = learn.learn.model(img.to(learn.device))\n",
    "torch.max(out.data, 1)[1].item()\n",
    "# transforms.ToPILImage()(img.squeeze())\n"
   ]
  },
  {
   "cell_type": "code",
   "execution_count": 200,
   "metadata": {},
   "outputs": [
    {
     "data": {
      "text/plain": [
       "(tensor([0.6023, 0.6521, 0.5619]), tensor([0.3451, 0.2762, 0.2727]))"
      ]
     },
     "execution_count": 200,
     "metadata": {},
     "output_type": "execute_result"
    }
   ],
   "source": [
    "test = img\n",
    "channels_sum, channels_squared_sum, num_batches = 0, 0, 0\n",
    "\n",
    "channels_sum += torch.mean(test, dim=[0, 2, 3])\n",
    "channels_squared_sum += torch.mean(test**2, dim=[0, 2, 3])\n",
    "num_batches += 1\n",
    "\n",
    "mean = channels_sum / num_batches\n",
    "std = (channels_squared_sum / num_batches - mean**2)**0.5\n",
    "mean, std"
   ]
  },
  {
   "cell_type": "code",
   "execution_count": 213,
   "metadata": {},
   "outputs": [
    {
     "data": {
      "image/png": "[encoded data removed]",
      "text/plain": [
       "<PIL.Image.Image image mode=RGB size=128x128 at 0x7F4B3BA1B310>"
      ]
     },
     "execution_count": 213,
     "metadata": {},
     "output_type": "execute_result"
    }
   ],
   "source": [
    "img = transforms.Normalize([0.6023, 0.6521, 0.5619], [0.3451, 0.2762, 0.2727])(img)\n",
    "transforms.ToPILImage()(img.squeeze())\n"
   ]
  },
  {
   "cell_type": "code",
   "execution_count": 5,
   "metadata": {},
   "outputs": [
    {
     "data": {
      "text/html": [
       "        <script type=\"text/javascript\">\n",
       "        window.PlotlyConfig = {MathJaxConfig: 'local'};\n",
       "        if (window.MathJax) {MathJax.Hub.Config({SVG: {font: \"STIX-Web\"}});}\n",
       "        if (typeof require !== 'undefined') {\n",
       "        require.undef(\"plotly\");\n",
       "        requirejs.config({\n",
       "            paths: {\n",
       "                'plotly': ['https://cdn.plot.ly/plotly-2.11.1.min']\n",
       "            }\n",
       "        });\n",
       "        require(['plotly'], function(Plotly) {\n",
       "            window._Plotly = Plotly;\n",
       "        });\n",
       "        }\n",
       "        </script>\n",
       "        "
      ]
     },
     "metadata": {},
     "output_type": "display_data"
    },
    {
     "data": {
      "text/html": [
       "<div>                            <div id=\"0f61a144-13df-4e3b-b40d-bb91f72f07a0\" class=\"plotly-graph-div\" style=\"height:525px; width:100%;\"></div>            <script type=\"text/javascript\">                require([\"plotly\"], function(Plotly) {                    window.PLOTLYENV=window.PLOTLYENV || {};                                    if (document.getElementById(\"0f61a144-13df-4e3b-b40d-bb91f72f07a0\")) {                    Plotly.newPlot(                        \"0f61a144-13df-4e3b-b40d-bb91f72f07a0\",                        [{\"line\":{\"color\":\"rgb(0,0,200)\"},\"name\":\"valid_acc\",\"x\":[0,1,2,3,4,5,6,7,8,9,10,11,12,13,14,15,16,17,18,19,20,21,22,23,24,25,26,27,28,29,30,31,32,33,34,35,36,37,38,39,40,41,42,43,44,45,46,47,48,49,50,51,52,53,54,55,56,57,58,59,60,61,62,63,64,65,66,67,68,69,70,71,72,73,74,75,76,77,78,79,80,81,82,83,84,85,86,87,88,89,90,91,92,93,94,95,96,97,98,99,100],\"y\":[0.5902892561983472,0.6396435950413223,0.6691761363636364,0.6916064049586776,0.7187693698347107,0.7389527376033058,0.7595493285123968,0.7691955061983471,0.7791967975206611,0.785705061983471,0.7919163223140496,0.7948153409090909,0.7987215909090909,0.8029829545454544,0.8047585227272727,0.8086647727272727,0.8108535640495869,0.8122740185950413,0.8129842458677686,0.8151149276859505,0.8169486053719008,0.8176588326446281,0.8180139462809918,0.8187822830578512,0.8198476239669421,0.8194344008264463,0.822630423553719,0.8240508780991735,0.8255294421487602,0.8241089876033058,0.8251743285123966,0.8258845557851239,0.8269498966942148,0.8283703512396694,0.8301459194214875,0.8312112603305785,0.8333419421487602,0.8347623966942148,0.8344072830578512,0.8358277376033058,0.8361828512396694,0.8361828512396694,0.8361828512396694,0.836537964876033,0.8372481921487602,0.8368930785123966,0.8368930785123966,0.8376033057851239,0.8390237603305785,0.8393788739669421,0.8390237603305785,0.8393788739669421,0.8390237603305785,0.8386686466942148,0.8390237603305785,0.8400891012396694,0.8400891012396694,0.8400891012396694,0.840444214876033,0.8397339876033058,0.8390237603305785,0.8386686466942148,0.8393788739669421,0.8393788739669421,0.8393788739669421,0.8397339876033058,0.8400891012396694,0.8407993285123966,0.8415095557851239,0.8422197830578512,0.8418065599173553,0.842161673553719,0.8414514462809918,0.8432270144628099,0.8432270144628099,0.8439372417355372,0.8446474690082645,0.8442923553719008,0.8446474690082645,0.8446474690082645,0.8446474690082645,0.8450025826446281,0.8450025826446281,0.8453576962809918,0.8453576962809918,0.8453576962809918,0.8457128099173553,0.8464230371900826,0.8464230371900826,0.8467781508264463,0.8471332644628099,0.8471332644628099,0.8471332644628099,0.8464230371900826,0.8457128099173553,0.8450025826446281,0.8450025826446281,0.846067923553719,0.8453576962809918,0.8464230371900826,0.8467781508264463],\"type\":\"scatter\",\"xaxis\":\"x\",\"yaxis\":\"y\"},{\"line\":{\"color\":\"rgb(0,0,200)\",\"dash\":\"dash\",\"width\":1},\"name\":\"best val\",\"x\":[91],\"y\":[0.8471332644628099],\"type\":\"scatter\",\"xaxis\":\"x\",\"yaxis\":\"y\"},{\"line\":{\"color\":\"rgb(0,152,255)\"},\"name\":\"valid_loss\",\"x\":[0,1,2,3,4,5,6,7,8,9,10,11,12,13,14,15,16,17,18,19,20,21,22,23,24,25,26,27,28,29,30,31,32,33,34,35,36,37,38,39,40,41,42,43,44,45,46,47,48,49,50,51,52,53,54,55,56,57,58,59,60,61,62,63,64,65,66,67,68,69,70,71,72,73,74,75,76,77,78,79,80,81,82,83,84,85,86,87,88,89,90,91,92,93,94,95,96,97,98,99,100],\"y\":[1.1073537428270688,0.9697934687137604,0.8954714021899484,0.8355385485020551,0.7815144373611971,0.7335976795716719,0.6940550614487041,0.6627511327916925,0.6382862099192359,0.6186662092804909,0.6026854156093164,0.5894465189088475,0.5782358145171945,0.568515042012388,0.5599987676197832,0.5524822859601541,0.5456212061372671,0.5395220809362151,0.5339513143355196,0.5288330309770324,0.5240918303077872,0.5197595791383223,0.515776355158199,0.5120876004750078,0.5086532519622282,0.5055123716592789,0.502597762779756,0.4997726516290144,0.4971600764177062,0.4947372146628119,0.4924855923110788,0.4903205829587849,0.4882178394631906,0.4863257164304906,0.4844341318715702,0.4826474481008269,0.481009729206562,0.4793786880644885,0.4778908423402093,0.4764577583833174,0.4750601378354159,0.4737702933224765,0.4725433967330239,0.4713788526979359,0.4703017317435958,0.4692361652851105,0.4682020392607559,0.4672569852661002,0.4662995954806154,0.4654935019260103,0.4645754874429919,0.4637429653243585,0.463000163435936,0.4622555100782351,0.4615649479356679,0.4609483436427333,0.4603112289174036,0.4597091854295947,0.4591925012117082,0.4586319947107272,0.4581945037299936,0.4576898122375661,0.4572530680082061,0.4567983018403703,0.4564129689877683,0.4561046913943507,0.4557406448505141,0.4554150778461586,0.4551184079186482,0.4548492760143496,0.4545993300324136,0.4544396491890604,0.4542058845135299,0.454060477966612,0.4539478316225789,0.453825017945333,0.4537387480112639,0.453660638494925,0.4536371386863969,0.4535319954156875,0.4534629569812254,0.4534241486002098,0.4535029764202508,0.4534817906943234,0.4535433964973146,0.4536673714491454,0.4537659636275334,0.453876794739203,0.4540142576125535,0.4542006294835697,0.4543834359131076,0.4545607532967221,0.4547676674344323,0.4550260119140148,0.4552912461486729,0.4555533653633161,0.4558185518465258,0.4560836797410791,0.456404335796833,0.4567381969907067,0.4570813206109134],\"type\":\"scatter\",\"xaxis\":\"x2\",\"yaxis\":\"y2\"},{\"line\":{\"color\":\"rgb(0,152,255)\",\"dash\":\"dash\",\"width\":1},\"name\":\"best val\",\"x\":[82],\"y\":[0.4534241486002098],\"type\":\"scatter\",\"xaxis\":\"x2\",\"yaxis\":\"y2\"},{\"line\":{\"color\":\"rgb(151,255,0)\"},\"name\":\"train_loss\",\"x\":[0,1,2,3,4,5,6,7,8,9,10,11,12,13,14,15,16,17,18,19,20,21,22,23,24,25,26,27,28,29,30,31,32,33,34,35,36,37,38,39,40,41,42,43,44,45,46,47,48,49,50,51,52,53,54,55,56,57,58,59,60,61,62,63,64,65,66,67,68,69,70,71,72,73,74,75,76,77,78,79,80,81,82,83,84,85,86,87,88,89,90,91,92,93,94,95,96,97,98,99,100],\"y\":[1.3770350796835764,1.0380952865736826,0.9358329497064864,0.8662340583120074,0.8070674749783108,0.7544663030760629,0.7092950201034546,0.6720671841076442,0.6419017933096205,0.6169870727402823,0.5958823187010629,0.5775331478459494,0.5612585968630655,0.546513135433197,0.5329356563091278,0.520379468713488,0.508624507188797,0.4975933146476745,0.487180027450834,0.4772878217697143,0.4678646145548139,0.4588411780766078,0.4501730278560093,0.4418309545516968,0.4337647303513118,0.4259643520627703,0.4184160129513059,0.4110869170086724,0.403954946909632,0.3969916023526872,0.3902120767320905,0.3836070431981768,0.3771598656688418,0.3708416107722691,0.3646731275320053,0.3586470774241856,0.3527511746542794,0.3469776552915573,0.3413204037291663,0.3357725753954478,0.3303230277981077,0.3249727122272764,0.3197027846745082,0.3145240994862148,0.3094398232868739,0.3044327359540122,0.2995117839745113,0.2946614665644509,0.2899016713244574,0.2852065157038825,0.2806032226766858,0.2760645891087396,0.2715925811018262,0.2671844911575317,0.2628499050651278,0.2585797746692385,0.2543765491247177,0.2502369908775602,0.2461611339024135,0.2421391700846808,0.2381807108436312,0.2342707467930657,0.2304217527168137,0.2266202889169965,0.2228741848043033,0.2191858144317354,0.2155467619640486,0.2119543924501964,0.20840642281941,0.2049134192296436,0.2014702261345727,0.1980708986946514,0.1947221820269312,0.19141560703516,0.188159986436367,0.1849463736159461,0.1817836646522794,0.1786612392323357,0.1755790006688662,0.1725405793956347,0.1695472010970115,0.1665967613032886,0.1636884332980428,0.1608210814424923,0.1579977001462663,0.1552123933179038,0.1524658636535917,0.1497592074530465,0.1470919780646051,0.1444644425170762,0.1418711083275931,0.1393145040529115,0.1367941314407757,0.1343135111672537,0.1318713055763926,0.1294656885521752,0.127100504892213,0.1247654598312718,0.1224686767373766,0.1202033712608473,0.1179731544852256],\"type\":\"scatter\",\"xaxis\":\"x2\",\"yaxis\":\"y2\"},{\"line\":{\"color\":\"rgb(151,255,0)\",\"dash\":\"dash\",\"width\":1},\"name\":\"best val\",\"x\":[101],\"y\":[0.1179731544852256],\"type\":\"scatter\",\"xaxis\":\"x2\",\"yaxis\":\"y2\"}],                        {\"template\":{\"data\":{\"histogram2dcontour\":[{\"type\":\"histogram2dcontour\",\"colorbar\":{\"outlinewidth\":0,\"ticks\":\"\"},\"colorscale\":[[0.0,\"#0d0887\"],[0.1111111111111111,\"#46039f\"],[0.2222222222222222,\"#7201a8\"],[0.3333333333333333,\"#9c179e\"],[0.4444444444444444,\"#bd3786\"],[0.5555555555555556,\"#d8576b\"],[0.6666666666666666,\"#ed7953\"],[0.7777777777777778,\"#fb9f3a\"],[0.8888888888888888,\"#fdca26\"],[1.0,\"#f0f921\"]]}],\"choropleth\":[{\"type\":\"choropleth\",\"colorbar\":{\"outlinewidth\":0,\"ticks\":\"\"}}],\"histogram2d\":[{\"type\":\"histogram2d\",\"colorbar\":{\"outlinewidth\":0,\"ticks\":\"\"},\"colorscale\":[[0.0,\"#0d0887\"],[0.1111111111111111,\"#46039f\"],[0.2222222222222222,\"#7201a8\"],[0.3333333333333333,\"#9c179e\"],[0.4444444444444444,\"#bd3786\"],[0.5555555555555556,\"#d8576b\"],[0.6666666666666666,\"#ed7953\"],[0.7777777777777778,\"#fb9f3a\"],[0.8888888888888888,\"#fdca26\"],[1.0,\"#f0f921\"]]}],\"heatmap\":[{\"type\":\"heatmap\",\"colorbar\":{\"outlinewidth\":0,\"ticks\":\"\"},\"colorscale\":[[0.0,\"#0d0887\"],[0.1111111111111111,\"#46039f\"],[0.2222222222222222,\"#7201a8\"],[0.3333333333333333,\"#9c179e\"],[0.4444444444444444,\"#bd3786\"],[0.5555555555555556,\"#d8576b\"],[0.6666666666666666,\"#ed7953\"],[0.7777777777777778,\"#fb9f3a\"],[0.8888888888888888,\"#fdca26\"],[1.0,\"#f0f921\"]]}],\"heatmapgl\":[{\"type\":\"heatmapgl\",\"colorbar\":{\"outlinewidth\":0,\"ticks\":\"\"},\"colorscale\":[[0.0,\"#0d0887\"],[0.1111111111111111,\"#46039f\"],[0.2222222222222222,\"#7201a8\"],[0.3333333333333333,\"#9c179e\"],[0.4444444444444444,\"#bd3786\"],[0.5555555555555556,\"#d8576b\"],[0.6666666666666666,\"#ed7953\"],[0.7777777777777778,\"#fb9f3a\"],[0.8888888888888888,\"#fdca26\"],[1.0,\"#f0f921\"]]}],\"contourcarpet\":[{\"type\":\"contourcarpet\",\"colorbar\":{\"outlinewidth\":0,\"ticks\":\"\"}}],\"contour\":[{\"type\":\"contour\",\"colorbar\":{\"outlinewidth\":0,\"ticks\":\"\"},\"colorscale\":[[0.0,\"#0d0887\"],[0.1111111111111111,\"#46039f\"],[0.2222222222222222,\"#7201a8\"],[0.3333333333333333,\"#9c179e\"],[0.4444444444444444,\"#bd3786\"],[0.5555555555555556,\"#d8576b\"],[0.6666666666666666,\"#ed7953\"],[0.7777777777777778,\"#fb9f3a\"],[0.8888888888888888,\"#fdca26\"],[1.0,\"#f0f921\"]]}],\"surface\":[{\"type\":\"surface\",\"colorbar\":{\"outlinewidth\":0,\"ticks\":\"\"},\"colorscale\":[[0.0,\"#0d0887\"],[0.1111111111111111,\"#46039f\"],[0.2222222222222222,\"#7201a8\"],[0.3333333333333333,\"#9c179e\"],[0.4444444444444444,\"#bd3786\"],[0.5555555555555556,\"#d8576b\"],[0.6666666666666666,\"#ed7953\"],[0.7777777777777778,\"#fb9f3a\"],[0.8888888888888888,\"#fdca26\"],[1.0,\"#f0f921\"]]}],\"mesh3d\":[{\"type\":\"mesh3d\",\"colorbar\":{\"outlinewidth\":0,\"ticks\":\"\"}}],\"scatter\":[{\"fillpattern\":{\"fillmode\":\"overlay\",\"size\":10,\"solidity\":0.2},\"type\":\"scatter\"}],\"parcoords\":[{\"type\":\"parcoords\",\"line\":{\"colorbar\":{\"outlinewidth\":0,\"ticks\":\"\"}}}],\"scatterpolargl\":[{\"type\":\"scatterpolargl\",\"marker\":{\"colorbar\":{\"outlinewidth\":0,\"ticks\":\"\"}}}],\"bar\":[{\"error_x\":{\"color\":\"#2a3f5f\"},\"error_y\":{\"color\":\"#2a3f5f\"},\"marker\":{\"line\":{\"color\":\"#E5ECF6\",\"width\":0.5},\"pattern\":{\"fillmode\":\"overlay\",\"size\":10,\"solidity\":0.2}},\"type\":\"bar\"}],\"scattergeo\":[{\"type\":\"scattergeo\",\"marker\":{\"colorbar\":{\"outlinewidth\":0,\"ticks\":\"\"}}}],\"scatterpolar\":[{\"type\":\"scatterpolar\",\"marker\":{\"colorbar\":{\"outlinewidth\":0,\"ticks\":\"\"}}}],\"histogram\":[{\"marker\":{\"pattern\":{\"fillmode\":\"overlay\",\"size\":10,\"solidity\":0.2}},\"type\":\"histogram\"}],\"scattergl\":[{\"type\":\"scattergl\",\"marker\":{\"colorbar\":{\"outlinewidth\":0,\"ticks\":\"\"}}}],\"scatter3d\":[{\"type\":\"scatter3d\",\"line\":{\"colorbar\":{\"outlinewidth\":0,\"ticks\":\"\"}},\"marker\":{\"colorbar\":{\"outlinewidth\":0,\"ticks\":\"\"}}}],\"scattermapbox\":[{\"type\":\"scattermapbox\",\"marker\":{\"colorbar\":{\"outlinewidth\":0,\"ticks\":\"\"}}}],\"scatterternary\":[{\"type\":\"scatterternary\",\"marker\":{\"colorbar\":{\"outlinewidth\":0,\"ticks\":\"\"}}}],\"scattercarpet\":[{\"type\":\"scattercarpet\",\"marker\":{\"colorbar\":{\"outlinewidth\":0,\"ticks\":\"\"}}}],\"carpet\":[{\"aaxis\":{\"endlinecolor\":\"#2a3f5f\",\"gridcolor\":\"white\",\"linecolor\":\"white\",\"minorgridcolor\":\"white\",\"startlinecolor\":\"#2a3f5f\"},\"baxis\":{\"endlinecolor\":\"#2a3f5f\",\"gridcolor\":\"white\",\"linecolor\":\"white\",\"minorgridcolor\":\"white\",\"startlinecolor\":\"#2a3f5f\"},\"type\":\"carpet\"}],\"table\":[{\"cells\":{\"fill\":{\"color\":\"#EBF0F8\"},\"line\":{\"color\":\"white\"}},\"header\":{\"fill\":{\"color\":\"#C8D4E3\"},\"line\":{\"color\":\"white\"}},\"type\":\"table\"}],\"barpolar\":[{\"marker\":{\"line\":{\"color\":\"#E5ECF6\",\"width\":0.5},\"pattern\":{\"fillmode\":\"overlay\",\"size\":10,\"solidity\":0.2}},\"type\":\"barpolar\"}],\"pie\":[{\"automargin\":true,\"type\":\"pie\"}]},\"layout\":{\"autotypenumbers\":\"strict\",\"colorway\":[\"#636efa\",\"#EF553B\",\"#00cc96\",\"#ab63fa\",\"#FFA15A\",\"#19d3f3\",\"#FF6692\",\"#B6E880\",\"#FF97FF\",\"#FECB52\"],\"font\":{\"color\":\"#2a3f5f\"},\"hovermode\":\"closest\",\"hoverlabel\":{\"align\":\"left\"},\"paper_bgcolor\":\"white\",\"plot_bgcolor\":\"#E5ECF6\",\"polar\":{\"bgcolor\":\"#E5ECF6\",\"angularaxis\":{\"gridcolor\":\"white\",\"linecolor\":\"white\",\"ticks\":\"\"},\"radialaxis\":{\"gridcolor\":\"white\",\"linecolor\":\"white\",\"ticks\":\"\"}},\"ternary\":{\"bgcolor\":\"#E5ECF6\",\"aaxis\":{\"gridcolor\":\"white\",\"linecolor\":\"white\",\"ticks\":\"\"},\"baxis\":{\"gridcolor\":\"white\",\"linecolor\":\"white\",\"ticks\":\"\"},\"caxis\":{\"gridcolor\":\"white\",\"linecolor\":\"white\",\"ticks\":\"\"}},\"coloraxis\":{\"colorbar\":{\"outlinewidth\":0,\"ticks\":\"\"}},\"colorscale\":{\"sequential\":[[0.0,\"#0d0887\"],[0.1111111111111111,\"#46039f\"],[0.2222222222222222,\"#7201a8\"],[0.3333333333333333,\"#9c179e\"],[0.4444444444444444,\"#bd3786\"],[0.5555555555555556,\"#d8576b\"],[0.6666666666666666,\"#ed7953\"],[0.7777777777777778,\"#fb9f3a\"],[0.8888888888888888,\"#fdca26\"],[1.0,\"#f0f921\"]],\"sequentialminus\":[[0.0,\"#0d0887\"],[0.1111111111111111,\"#46039f\"],[0.2222222222222222,\"#7201a8\"],[0.3333333333333333,\"#9c179e\"],[0.4444444444444444,\"#bd3786\"],[0.5555555555555556,\"#d8576b\"],[0.6666666666666666,\"#ed7953\"],[0.7777777777777778,\"#fb9f3a\"],[0.8888888888888888,\"#fdca26\"],[1.0,\"#f0f921\"]],\"diverging\":[[0,\"#8e0152\"],[0.1,\"#c51b7d\"],[0.2,\"#de77ae\"],[0.3,\"#f1b6da\"],[0.4,\"#fde0ef\"],[0.5,\"#f7f7f7\"],[0.6,\"#e6f5d0\"],[0.7,\"#b8e186\"],[0.8,\"#7fbc41\"],[0.9,\"#4d9221\"],[1,\"#276419\"]]},\"xaxis\":{\"gridcolor\":\"white\",\"linecolor\":\"white\",\"ticks\":\"\",\"title\":{\"standoff\":15},\"zerolinecolor\":\"white\",\"automargin\":true,\"zerolinewidth\":2},\"yaxis\":{\"gridcolor\":\"white\",\"linecolor\":\"white\",\"ticks\":\"\",\"title\":{\"standoff\":15},\"zerolinecolor\":\"white\",\"automargin\":true,\"zerolinewidth\":2},\"scene\":{\"xaxis\":{\"backgroundcolor\":\"#E5ECF6\",\"gridcolor\":\"white\",\"linecolor\":\"white\",\"showbackground\":true,\"ticks\":\"\",\"zerolinecolor\":\"white\",\"gridwidth\":2},\"yaxis\":{\"backgroundcolor\":\"#E5ECF6\",\"gridcolor\":\"white\",\"linecolor\":\"white\",\"showbackground\":true,\"ticks\":\"\",\"zerolinecolor\":\"white\",\"gridwidth\":2},\"zaxis\":{\"backgroundcolor\":\"#E5ECF6\",\"gridcolor\":\"white\",\"linecolor\":\"white\",\"showbackground\":true,\"ticks\":\"\",\"zerolinecolor\":\"white\",\"gridwidth\":2}},\"shapedefaults\":{\"line\":{\"color\":\"#2a3f5f\"}},\"annotationdefaults\":{\"arrowcolor\":\"#2a3f5f\",\"arrowhead\":0,\"arrowwidth\":1},\"geo\":{\"bgcolor\":\"white\",\"landcolor\":\"#E5ECF6\",\"subunitcolor\":\"white\",\"showland\":true,\"showlakes\":true,\"lakecolor\":\"white\"},\"title\":{\"x\":0.05},\"mapbox\":{\"style\":\"light\"}}},\"xaxis\":{\"anchor\":\"y\",\"domain\":[0.0,0.45]},\"yaxis\":{\"anchor\":\"x\",\"domain\":[0.0,1.0]},\"xaxis2\":{\"anchor\":\"y2\",\"domain\":[0.55,1.0]},\"yaxis2\":{\"anchor\":\"x2\",\"domain\":[0.0,1.0]},\"annotations\":[{\"font\":{\"size\":16},\"showarrow\":false,\"text\":\"acc\",\"x\":0.225,\"xanchor\":\"center\",\"xref\":\"paper\",\"y\":1.0,\"yanchor\":\"bottom\",\"yref\":\"paper\"},{\"font\":{\"size\":16},\"showarrow\":false,\"text\":\"loss\",\"x\":0.775,\"xanchor\":\"center\",\"xref\":\"paper\",\"y\":1.0,\"yanchor\":\"bottom\",\"yref\":\"paper\"}],\"shapes\":[{\"line\":{\"color\":\"rgb(0,0,200)\",\"dash\":\"dash\",\"width\":1},\"type\":\"line\",\"x0\":91,\"x1\":91,\"xref\":\"x\",\"y0\":0,\"y1\":1,\"yref\":\"y domain\"},{\"line\":{\"color\":\"rgb(0,152,255)\",\"dash\":\"dash\",\"width\":1},\"type\":\"line\",\"x0\":82,\"x1\":82,\"xref\":\"x2\",\"y0\":0,\"y1\":1,\"yref\":\"y2 domain\"},{\"line\":{\"color\":\"rgb(151,255,0)\",\"dash\":\"dash\",\"width\":1},\"type\":\"line\",\"x0\":101,\"x1\":101,\"xref\":\"x2\",\"y0\":0,\"y1\":1,\"yref\":\"y2 domain\"}]},                        {\"responsive\": true}                    ).then(function(){\n",
       "                            \n",
       "var gd = document.getElementById('0f61a144-13df-4e3b-b40d-bb91f72f07a0');\n",
       "var x = new MutationObserver(function (mutations, observer) {{\n",
       "        var display = window.getComputedStyle(gd).display;\n",
       "        if (!display || display === 'none') {{\n",
       "            console.log([gd, 'removed!']);\n",
       "            Plotly.purge(gd);\n",
       "            observer.disconnect();\n",
       "        }}\n",
       "}});\n",
       "\n",
       "// Listen for the removal of the full notebook cells\n",
       "var notebookContainer = gd.closest('#notebook-container');\n",
       "if (notebookContainer) {{\n",
       "    x.observe(notebookContainer, {childList: true});\n",
       "}}\n",
       "\n",
       "// Listen for the clearing of the current output cell\n",
       "var outputEl = gd.closest('.output');\n",
       "if (outputEl) {{\n",
       "    x.observe(outputEl, {childList: true});\n",
       "}}\n",
       "\n",
       "                        })                };                });            </script>        </div>"
      ]
     },
     "metadata": {},
     "output_type": "display_data"
    }
   ],
   "source": [
    "plot_history_all(best_history)\n",
    "# best_history[0][0]"
   ]
  },
  {
   "cell_type": "code",
   "execution_count": 43,
   "metadata": {},
   "outputs": [
    {
     "data": {
      "text/plain": [
       "tensor([[ 2.9437e-02,  5.6660e-01,  4.3710e-01, -2.4919e-01,  5.2946e-01,\n",
       "          1.5116e+00],\n",
       "        [-2.1430e-01, -6.8146e-01, -3.8934e-01, -4.1285e-01,  4.3214e-02,\n",
       "          9.3181e-01],\n",
       "        [ 2.8854e-01, -2.7958e-01, -2.1406e-01, -1.4422e+00,  1.7665e-02,\n",
       "          1.0402e+00],\n",
       "        [ 7.6974e-01, -1.1695e-02,  4.0755e-01, -1.0151e+00, -2.5027e-01,\n",
       "          7.6901e-01],\n",
       "        [-9.4725e-02,  1.0334e+00,  1.7287e+00, -1.1007e+00,  1.6617e-01,\n",
       "          8.1947e-01],\n",
       "        [ 1.2263e-01, -2.3190e-01,  2.1097e-01, -4.7100e-01,  6.9263e-01,\n",
       "          7.1590e-01],\n",
       "        [ 1.3604e-01,  1.0653e-01,  7.0132e-01,  1.3013e+00, -2.6025e-01,\n",
       "          4.0852e-01],\n",
       "        [-5.1715e-01,  2.5876e-01,  3.2860e-01, -4.8839e-01, -5.5886e-01,\n",
       "          6.0666e-01],\n",
       "        [-1.3317e-01, -1.9250e-01,  6.1959e-01, -1.0243e+00,  1.5129e-01,\n",
       "          6.5095e-01],\n",
       "        [-9.0879e-02, -3.3638e-02, -4.4355e-01, -1.9576e-01, -4.7457e-01,\n",
       "          6.9916e-01],\n",
       "        [-3.6090e-01, -1.4958e-01,  1.6191e-01, -8.1632e-01,  8.6060e-01,\n",
       "          5.4502e-01],\n",
       "        [-3.9796e-01, -1.8346e-01,  4.4765e-01, -4.6637e-01,  5.1236e-02,\n",
       "          1.3368e+00],\n",
       "        [ 2.3329e-01, -7.2703e-01,  1.0067e+00, -8.4728e-01,  1.2187e+00,\n",
       "          5.3767e-01],\n",
       "        [-6.3900e-01, -9.4880e-02,  6.5496e-02, -6.6381e-02, -1.8987e-02,\n",
       "          1.0216e+00],\n",
       "        [ 8.2628e-02, -1.8985e-02, -2.9991e-01, -3.2430e-02,  2.4454e-01,\n",
       "          8.2708e-01],\n",
       "        [ 3.6724e-01, -3.1541e-01,  6.7271e-01, -1.0965e-01,  7.0334e-01,\n",
       "         -2.3026e-01],\n",
       "        [-2.2924e-01, -4.3793e-01, -4.3165e-01, -2.1860e-01,  9.8992e-02,\n",
       "          8.5301e-01],\n",
       "        [-4.5660e-01, -5.3242e-01,  1.5569e-01, -1.9867e-01, -1.3434e-01,\n",
       "          1.4928e+00],\n",
       "        [-8.6655e-02, -8.1777e-01,  5.7005e-02,  8.0298e-01, -4.7717e-01,\n",
       "          6.5747e-01],\n",
       "        [-3.4170e-01, -4.4616e-01,  1.3947e-01, -3.7408e-01,  2.3574e-01,\n",
       "          1.4424e+00],\n",
       "        [-3.6495e-01, -1.4525e-01,  5.5482e-01, -5.4921e-01,  1.1381e+00,\n",
       "          1.4504e+00],\n",
       "        [ 9.3403e-01,  1.5647e-01,  2.3612e+00, -3.5150e-01,  1.7846e-01,\n",
       "          1.0395e+00],\n",
       "        [-2.8875e-01, -2.6033e-01,  5.1798e-02,  3.0741e-02,  5.3438e-01,\n",
       "          4.8932e-01],\n",
       "        [-2.8278e-01,  4.0260e-02, -3.3621e-01, -2.8134e-01, -1.2645e-01,\n",
       "          3.1855e-01],\n",
       "        [-9.1576e-01, -8.7307e-01,  5.9303e-01,  5.0727e-01,  5.9016e-02,\n",
       "         -9.1282e-01],\n",
       "        [-1.2476e+00, -3.3807e-01,  7.4689e-01,  9.5386e-01, -2.3530e-01,\n",
       "          8.2699e-01],\n",
       "        [ 3.8551e-01, -1.4017e+00,  3.8505e-01, -1.2279e-01,  9.5591e-01,\n",
       "          1.4572e+00],\n",
       "        [ 2.4412e-02, -6.5701e-01,  1.7758e+00,  9.4558e-01, -1.2829e+00,\n",
       "          1.4682e+00],\n",
       "        [-7.1108e-01, -4.6852e-01,  3.0417e-01, -3.4155e-01, -3.3721e-02,\n",
       "          6.5723e-01],\n",
       "        [-1.7732e-01, -9.8129e-01, -6.2682e-01, -3.6492e-01,  1.0146e-01,\n",
       "          9.3535e-01],\n",
       "        [-1.6413e-01, -4.8348e-01,  4.1865e-01, -4.3155e-01,  4.6086e-01,\n",
       "          8.1052e-01],\n",
       "        [-2.7149e-02, -2.8289e-01, -9.9243e-01, -7.3889e-01,  2.1724e+00,\n",
       "          1.8538e+00],\n",
       "        [ 1.9222e+00,  1.8487e-01,  9.6536e-01,  1.2590e+00,  5.7775e-01,\n",
       "          2.3491e+00],\n",
       "        [ 3.5776e-01, -3.7721e-01, -1.9036e-01, -1.0113e-01,  3.6492e-01,\n",
       "          7.1718e-01],\n",
       "        [-1.4478e-01, -1.2570e-02,  4.3758e-01, -3.6101e-01,  3.7243e-01,\n",
       "          4.0366e-01],\n",
       "        [ 6.6094e-01, -2.3892e-01,  1.0637e-01,  1.4996e-01, -8.6578e-01,\n",
       "          1.3108e+00],\n",
       "        [-2.8112e-01, -4.4915e-01,  3.7527e-01, -1.9695e-01,  3.7018e-01,\n",
       "          8.4824e-01],\n",
       "        [ 1.8970e+00,  8.0507e-01,  1.0362e+00, -9.1419e-01,  4.5858e-01,\n",
       "          9.7850e-01],\n",
       "        [-9.5061e-01, -3.1805e-01, -2.9189e-01, -4.9709e-02, -3.3267e-01,\n",
       "          1.0377e+00],\n",
       "        [ 4.3789e-02, -3.0599e-01,  3.8469e-01, -4.6890e-01, -3.1425e-02,\n",
       "          1.0330e+00],\n",
       "        [-4.1154e-01, -5.4792e-01,  6.5826e-01,  1.1826e-01,  2.0975e-01,\n",
       "          1.0201e+00],\n",
       "        [-1.0134e-01,  7.9835e-01,  7.6060e-01,  5.7897e-01,  9.4875e-01,\n",
       "          2.1903e+00],\n",
       "        [ 5.1286e-02,  7.1505e-02, -2.9653e-01, -7.1992e-02,  1.3083e+00,\n",
       "          2.7551e-01],\n",
       "        [-5.1339e-01, -9.6091e-02,  1.6048e-01,  7.6800e-04,  5.9525e-01,\n",
       "          8.4757e-01],\n",
       "        [ 2.0586e-01,  5.5311e-02,  6.6209e-01,  3.3443e-01,  7.6604e-01,\n",
       "          6.8697e-01],\n",
       "        [ 5.4668e-01, -8.5925e-01,  7.9654e-01, -1.7639e-01,  7.7231e-01,\n",
       "          3.9796e-01],\n",
       "        [ 1.0909e-01, -1.0382e+00, -1.0595e-01, -3.7074e-01,  8.3336e-01,\n",
       "          3.6473e-01],\n",
       "        [-3.1683e-01,  8.7668e-01,  7.1382e-01, -1.6978e-01, -3.2417e-01,\n",
       "          9.4136e-01],\n",
       "        [-9.4183e-01, -8.1692e-01,  6.6173e-02, -1.6033e+00,  3.2999e-01,\n",
       "          2.0128e+00],\n",
       "        [-8.3417e-02, -6.1443e-01,  1.6271e-01, -2.6824e-02,  1.3571e+00,\n",
       "          9.9003e-01],\n",
       "        [-5.5777e-01, -1.1824e+00,  1.4578e+00,  6.7038e-01,  2.3426e-01,\n",
       "         -1.6982e-01],\n",
       "        [-2.1330e+00,  2.2030e-01,  5.3465e-01,  1.3183e+00,  5.2245e-01,\n",
       "          1.4367e+00],\n",
       "        [ 7.7878e-01, -1.4799e+00, -1.9035e-01, -6.5518e-01,  1.0157e+00,\n",
       "          1.7920e+00],\n",
       "        [-3.3513e-01,  6.4994e-01,  5.7895e-01,  2.6981e-01,  6.2586e-01,\n",
       "          8.4685e-01],\n",
       "        [-1.9430e-01, -6.4764e-02,  4.9379e-01, -5.8852e-01,  1.9302e+00,\n",
       "          1.6851e+00],\n",
       "        [-3.9327e-01, -3.9713e-01,  2.0602e-01, -2.1494e-01, -2.7148e-01,\n",
       "          7.3334e-01],\n",
       "        [-3.0594e-02,  1.3837e-01, -1.9581e-01,  3.7737e-02,  8.6850e-02,\n",
       "          4.9078e-01],\n",
       "        [-6.5140e-01, -9.1367e-01,  1.6567e-02, -2.2691e-01, -2.9211e-01,\n",
       "          1.4930e+00],\n",
       "        [ 3.4512e-02,  1.2844e-02,  2.2061e-01, -6.4465e-01, -3.2532e-01,\n",
       "          1.6003e-01],\n",
       "        [ 3.6754e-01, -5.8758e-02,  5.2646e-01,  5.6700e-02,  6.9781e-02,\n",
       "          1.1496e+00],\n",
       "        [ 1.1786e+00, -8.2469e-01,  8.1197e-01, -4.1471e-01,  1.4593e+00,\n",
       "          1.1838e+00],\n",
       "        [ 1.4157e+00, -1.2842e+00,  8.5648e-01, -6.4339e-01,  9.4775e-01,\n",
       "          5.1582e-01],\n",
       "        [-2.7910e-01, -3.9877e-01,  2.3985e-01, -9.4886e-01,  4.3181e-01,\n",
       "          1.6477e+00],\n",
       "        [ 5.1806e-01, -4.9718e-01,  4.0978e-01, -1.1399e-01,  2.7541e-01,\n",
       "          1.2934e+00]], grad_fn=<AddmmBackward0>)"
      ]
     },
     "execution_count": 43,
     "metadata": {},
     "output_type": "execute_result"
    }
   ],
   "source": [
    "import torchvision\n",
    "pretrained = True\n",
    "batch = next(iter(data.train_dl))\n",
    "img = batch[0].permute(0, 3, 2, 1)\n",
    "model = torchvision.models.resnet18(pretrained)\n",
    "num_features = model.fc.in_features\n",
    "model.fc = nn.Linear(num_features, 6)\n",
    "\n",
    "model(img/255)\n",
    "# import matplotlib.pyplot as plt\n",
    "# plt.imshow(img.permute(0, 1, 2))\n"
   ]
  },
  {
   "cell_type": "code",
   "execution_count": 8,
   "metadata": {},
   "outputs": [],
   "source": [
    "import h5py\n",
    "from pathlib import Path\n",
    "data_path = Path(config_file[\"p_local_data_path\"]) / \"processed_files\" / \"train_data.h5\"\n",
    "dset = h5py.File(data_path, \"r\") "
   ]
  },
  {
   "cell_type": "code",
   "execution_count": null,
   "metadata": {},
   "outputs": [],
   "source": []
  },
  {
   "cell_type": "code",
   "execution_count": null,
   "metadata": {},
   "outputs": [],
   "source": [
    "import sys\n",
    "def sizeof_fmt(num, suffix='B'):\n",
    "    ''' by Fred Cirera,  https://stackoverflow.com/a/1094933/1870254, modified'''\n",
    "    for unit in ['','Ki','Mi','Gi','Ti','Pi','Ei','Zi']:\n",
    "        if abs(num) < 1024.0:\n",
    "            return \"%3.1f %s%s\" % (num, unit, suffix)\n",
    "        num /= 1024.0\n",
    "    return \"%.1f %s%s\" % (num, 'Yi', suffix)\n",
    "\n",
    "for name, size in sorted(((name, sys.getsizeof(value)) for name, value in locals().items()),\n",
    "                         key= lambda x: -x[1])[:10]:\n",
    "    print(\"{:>30}: {:>8}\".format(name, sizeof_fmt(size)))"
   ]
  },
  {
   "cell_type": "code",
   "execution_count": 133,
   "metadata": {},
   "outputs": [
    {
     "data": {
      "text/plain": [
       "tensor([[-2.9168e-01],\n",
       "        [-1.6196e-01],\n",
       "        [ 2.9472e-01],\n",
       "        [ 6.2239e-02],\n",
       "        [ 1.9767e-01],\n",
       "        [-4.6405e-01],\n",
       "        [-8.1470e-01],\n",
       "        [-2.6797e-01],\n",
       "        [-3.7364e-01],\n",
       "        [ 1.8129e-01],\n",
       "        [ 8.5726e-02],\n",
       "        [ 5.2427e-01],\n",
       "        [ 5.0081e-02],\n",
       "        [-6.7159e-01],\n",
       "        [ 2.2814e-01],\n",
       "        [-8.1703e-02],\n",
       "        [-1.9749e-01],\n",
       "        [ 3.3920e-02],\n",
       "        [ 2.7294e-01],\n",
       "        [ 6.6710e-04],\n",
       "        [ 9.9744e-02],\n",
       "        [-5.0846e-01],\n",
       "        [-1.0967e-01],\n",
       "        [-1.8858e-02],\n",
       "        [ 8.7219e-01],\n",
       "        [ 2.1678e-01],\n",
       "        [ 3.8744e-01],\n",
       "        [ 1.8138e-01],\n",
       "        [-1.9797e-02],\n",
       "        [ 7.9672e-01],\n",
       "        [ 2.2826e-01],\n",
       "        [ 1.5312e-01],\n",
       "        [ 1.1312e-01],\n",
       "        [-1.7619e-01],\n",
       "        [ 2.5308e-02],\n",
       "        [-3.1693e-01],\n",
       "        [ 3.3003e-01],\n",
       "        [-5.1250e-01],\n",
       "        [-1.9844e-02],\n",
       "        [-6.8867e-01],\n",
       "        [-8.9160e-01],\n",
       "        [-3.8979e-01],\n",
       "        [ 3.8396e-01],\n",
       "        [ 2.8812e-01],\n",
       "        [-8.3362e-02],\n",
       "        [ 3.1827e-01],\n",
       "        [-5.2256e-01],\n",
       "        [ 8.9947e-02],\n",
       "        [-2.8939e-01],\n",
       "        [ 6.0611e-01],\n",
       "        [ 1.4150e-01],\n",
       "        [-4.3422e-02],\n",
       "        [-2.3130e-01],\n",
       "        [-1.2054e-01],\n",
       "        [ 1.9038e-01],\n",
       "        [-1.1658e-01],\n",
       "        [-3.0676e-01],\n",
       "        [ 7.0065e-01],\n",
       "        [-4.4861e-01],\n",
       "        [ 2.3114e-01],\n",
       "        [-5.3370e-02],\n",
       "        [ 4.5517e-01],\n",
       "        [ 6.6640e-01],\n",
       "        [ 2.6203e-01]], grad_fn=<AddmmBackward0>)"
      ]
     },
     "execution_count": 133,
     "metadata": {},
     "output_type": "execute_result"
    }
   ],
   "source": [
    "\n",
    "    \n",
    "img = next(iter(data_test.train_dl))[0]\n",
    "# net = CustomModel(img.size(1), 6, 16, 124, 4)\n",
    "# img.size(2)\n",
    "data_test.train_dl.dataset[0][0].shape\n",
    "learn.learn.model(img)\n"
   ]
  },
  {
   "cell_type": "code",
   "execution_count": 114,
   "metadata": {},
   "outputs": [
    {
     "data": {
      "text/plain": [
       "torch.Size([64, 3, 124, 124])"
      ]
     },
     "execution_count": 114,
     "metadata": {},
     "output_type": "execute_result"
    }
   ],
   "source": [
    "img = next(iter(data_test.train_dl))[0]\n",
    "img.shape"
   ]
  },
  {
   "cell_type": "code",
   "execution_count": 126,
   "metadata": {},
   "outputs": [
    {
     "data": {
      "text/plain": [
       "61504"
      ]
     },
     "execution_count": 126,
     "metadata": {},
     "output_type": "execute_result"
    }
   ],
   "source": [
    "def conv_output_size(w, k=3, p=2, s=1):\n",
    "    return ((w - k + 2*p) / s + 1)\n",
    "conv_output_size(124,3,1,1)\n",
    "conv_output_size(124, 2, 0, 2)\n",
    "62*62*16\n",
    "# conv_output_size(1984, 1, 2)"
   ]
  }
 ],
 "metadata": {
  "interpreter": {
   "hash": "949777d72b0d2535278d3dc13498b2535136f6dfe0678499012e853ee9abcab1"
  },
  "kernelspec": {
   "display_name": "Python 3.7.0 ('base')",
   "language": "python",
   "name": "python3"
  },
  "language_info": {
   "codemirror_mode": {
    "name": "ipython",
    "version": 3
   },
   "file_extension": ".py",
   "mimetype": "text/x-python",
   "name": "python",
   "nbconvert_exporter": "python",
   "pygments_lexer": "ipython3",
   "version": "3.10.4"
  },
  "orig_nbformat": 4
 },
 "nbformat": 4,
 "nbformat_minor": 2
}
